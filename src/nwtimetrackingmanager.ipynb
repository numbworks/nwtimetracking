{
 "cells": [
  {
   "attachments": {},
   "cell_type": "markdown",
   "metadata": {},
   "source": [
    "|||\n",
    "|---|---|\n",
    "|Title|nwtimetrackingmanager|\n",
    "|Author|numbworks|\n",
    "|Version|1.0.0|\n",
    "||Please check [docs/docs-nwtimetrackingmanager.md](../docs/docs-nwtimetrackingmanager.md) before proceeding.|"
   ]
  },
  {
   "attachments": {},
   "cell_type": "markdown",
   "metadata": {},
   "source": [
    "#### Setup"
   ]
  },
  {
   "cell_type": "code",
   "execution_count": 208,
   "metadata": {},
   "outputs": [],
   "source": [
    "install_dependencies : bool = False\n",
    "\n",
    "if install_dependencies:\n",
    "    %pip install pandas==1.5.2\n",
    "    %pip install numpy==1.24.0\n",
    "    %pip install openpyxl==3.0.10\n",
    "    %pip install coverage==7.2.3\n"
   ]
  },
  {
   "attachments": {},
   "cell_type": "markdown",
   "metadata": {},
   "source": [
    "#### Global Modules"
   ]
  },
  {
   "cell_type": "code",
   "execution_count": 209,
   "metadata": {},
   "outputs": [],
   "source": [
    "from datetime import datetime\n",
    "from datetime import timedelta\n",
    "from pandas import DataFrame\n"
   ]
  },
  {
   "attachments": {},
   "cell_type": "markdown",
   "metadata": {},
   "source": [
    "#### Local Modules"
   ]
  },
  {
   "cell_type": "code",
   "execution_count": 210,
   "metadata": {},
   "outputs": [],
   "source": [
    "import nwtimetrackingmanager as nwttm\n",
    "from nwtimetrackingmanager import YearlyTarget\n",
    "from nwtimetrackingmanager import SettingCollection"
   ]
  },
  {
   "attachments": {},
   "cell_type": "markdown",
   "metadata": {},
   "source": [
    "#### Functions : Temp"
   ]
  },
  {
   "cell_type": "code",
   "execution_count": null,
   "metadata": {},
   "outputs": [],
   "source": []
  },
  {
   "attachments": {},
   "cell_type": "markdown",
   "metadata": {},
   "source": [
    "#### Settings"
   ]
  },
  {
   "cell_type": "code",
   "execution_count": 211,
   "metadata": {},
   "outputs": [],
   "source": [
    "setting_collection : SettingCollection = SettingCollection(\n",
    "    years = [2015, 2016, 2017, 2018, 2019, 2020, 2021, 2022, 2023],\n",
    "    yearly_targets = [\n",
    "        YearlyTarget(year = 2015, hours = timedelta(hours = 0)),\n",
    "        YearlyTarget(year = 2016, hours = timedelta(hours = 500)),\n",
    "        YearlyTarget(year = 2017, hours = timedelta(hours = 500)),\n",
    "        YearlyTarget(year = 2018, hours = timedelta(hours = 500)),\n",
    "        YearlyTarget(year = 2019, hours = timedelta(hours = 500)),\n",
    "        YearlyTarget(year = 2020, hours = timedelta(hours = 500)),\n",
    "        YearlyTarget(year = 2021, hours = timedelta(hours = 500)),\n",
    "        YearlyTarget(year = 2022, hours = timedelta(hours = 500)),\n",
    "        YearlyTarget(year = 2023, hours = timedelta(hours = 400))\n",
    "    ],\n",
    "    excel_path = nwttm.get_default_time_tracking_path(),\n",
    "    excel_books_skiprows = 0,\n",
    "    excel_books_nrows = 152,\n",
    "    excel_books_tabname = \"Sessions\",\n",
    "    n_generic = 5,\n",
    "    n_by_month = 12,\n",
    "    now = datetime.now(),\n",
    "    show_sessions_df = True,\n",
    ")\n"
   ]
  },
  {
   "attachments": {},
   "cell_type": "markdown",
   "metadata": {},
   "source": [
    "#### Main : Analysis"
   ]
  },
  {
   "cell_type": "code",
   "execution_count": 212,
   "metadata": {},
   "outputs": [
    {
     "data": {
      "text/html": [
       "<div>\n",
       "<style scoped>\n",
       "    .dataframe tbody tr th:only-of-type {\n",
       "        vertical-align: middle;\n",
       "    }\n",
       "\n",
       "    .dataframe tbody tr th {\n",
       "        vertical-align: top;\n",
       "    }\n",
       "\n",
       "    .dataframe thead th {\n",
       "        text-align: right;\n",
       "    }\n",
       "</style>\n",
       "<table border=\"1\" class=\"dataframe\">\n",
       "  <thead>\n",
       "    <tr style=\"text-align: right;\">\n",
       "      <th></th>\n",
       "      <th>Date</th>\n",
       "      <th>StartTime</th>\n",
       "      <th>EndTime</th>\n",
       "      <th>Duration</th>\n",
       "      <th>Hashtag</th>\n",
       "      <th>Description</th>\n",
       "      <th>ProjectName</th>\n",
       "      <th>ProjectVersion</th>\n",
       "      <th>IsReleaseDate</th>\n",
       "      <th>Year</th>\n",
       "      <th>Month</th>\n",
       "    </tr>\n",
       "  </thead>\n",
       "  <tbody>\n",
       "    <tr>\n",
       "      <th>0</th>\n",
       "      <td>2015-10-31</td>\n",
       "      <td>nan</td>\n",
       "      <td>nan</td>\n",
       "      <td>8h 00m</td>\n",
       "      <td>#untagged</td>\n",
       "      <td>nan</td>\n",
       "      <td>NaN</td>\n",
       "      <td>nan</td>\n",
       "      <td>nan</td>\n",
       "      <td>2015</td>\n",
       "      <td>10</td>\n",
       "    </tr>\n",
       "    <tr>\n",
       "      <th>1</th>\n",
       "      <td>2015-11-30</td>\n",
       "      <td>nan</td>\n",
       "      <td>nan</td>\n",
       "      <td>10h 00m</td>\n",
       "      <td>#untagged</td>\n",
       "      <td>nan</td>\n",
       "      <td>NaN</td>\n",
       "      <td>nan</td>\n",
       "      <td>nan</td>\n",
       "      <td>2015</td>\n",
       "      <td>11</td>\n",
       "    </tr>\n",
       "    <tr>\n",
       "      <th>2</th>\n",
       "      <td>2015-12-31</td>\n",
       "      <td>nan</td>\n",
       "      <td>nan</td>\n",
       "      <td>0h 00m</td>\n",
       "      <td>#untagged</td>\n",
       "      <td>nan</td>\n",
       "      <td>NaN</td>\n",
       "      <td>nan</td>\n",
       "      <td>nan</td>\n",
       "      <td>2015</td>\n",
       "      <td>12</td>\n",
       "    </tr>\n",
       "    <tr>\n",
       "      <th>3</th>\n",
       "      <td>2016-01-31</td>\n",
       "      <td>nan</td>\n",
       "      <td>nan</td>\n",
       "      <td>18h 00m</td>\n",
       "      <td>#untagged</td>\n",
       "      <td>nan</td>\n",
       "      <td>NaN</td>\n",
       "      <td>nan</td>\n",
       "      <td>nan</td>\n",
       "      <td>2016</td>\n",
       "      <td>1</td>\n",
       "    </tr>\n",
       "    <tr>\n",
       "      <th>4</th>\n",
       "      <td>2016-02-28</td>\n",
       "      <td>nan</td>\n",
       "      <td>nan</td>\n",
       "      <td>45h 30m</td>\n",
       "      <td>#untagged</td>\n",
       "      <td>nan</td>\n",
       "      <td>NaN</td>\n",
       "      <td>nan</td>\n",
       "      <td>nan</td>\n",
       "      <td>2016</td>\n",
       "      <td>2</td>\n",
       "    </tr>\n",
       "  </tbody>\n",
       "</table>\n",
       "</div>"
      ],
      "text/plain": [
       "         Date StartTime EndTime Duration    Hashtag Description ProjectName  \\\n",
       "0  2015-10-31       nan     nan   8h 00m  #untagged         nan         NaN   \n",
       "1  2015-11-30       nan     nan  10h 00m  #untagged         nan         NaN   \n",
       "2  2015-12-31       nan     nan   0h 00m  #untagged         nan         NaN   \n",
       "3  2016-01-31       nan     nan  18h 00m  #untagged         nan         NaN   \n",
       "4  2016-02-28       nan     nan  45h 30m  #untagged         nan         NaN   \n",
       "\n",
       "  ProjectVersion IsReleaseDate  Year  Month  \n",
       "0            nan           nan  2015     10  \n",
       "1            nan           nan  2015     11  \n",
       "2            nan           nan  2015     12  \n",
       "3            nan           nan  2016      1  \n",
       "4            nan           nan  2016      2  "
      ]
     },
     "metadata": {},
     "output_type": "display_data"
    }
   ],
   "source": [
    "sessions_df : DataFrame = nwttm.get_sessions_dataset(setting_collection = setting_collection)\n",
    "\n",
    "if setting_collection.show_sessions_df:\n",
    "    display(sessions_df.head(n = setting_collection.n_generic))\n"
   ]
  },
  {
   "cell_type": "code",
   "execution_count": 213,
   "metadata": {},
   "outputs": [
    {
     "data": {
      "text/html": [
       "<div>\n",
       "<style scoped>\n",
       "    .dataframe tbody tr th:only-of-type {\n",
       "        vertical-align: middle;\n",
       "    }\n",
       "\n",
       "    .dataframe tbody tr th {\n",
       "        vertical-align: top;\n",
       "    }\n",
       "\n",
       "    .dataframe thead th {\n",
       "        text-align: right;\n",
       "    }\n",
       "</style>\n",
       "<table border=\"1\" class=\"dataframe\">\n",
       "  <thead>\n",
       "    <tr style=\"text-align: right;\">\n",
       "      <th></th>\n",
       "      <th>Year</th>\n",
       "      <th>Duration</th>\n",
       "      <th>YearlyTarget</th>\n",
       "      <th>TargetDiff</th>\n",
       "      <th>IsTargetMet</th>\n",
       "    </tr>\n",
       "  </thead>\n",
       "  <tbody>\n",
       "    <tr>\n",
       "      <th>0</th>\n",
       "      <td>2015</td>\n",
       "      <td>0 days 18:00:00</td>\n",
       "      <td>0 days 00:00:00</td>\n",
       "      <td>+18h 00m</td>\n",
       "      <td>True</td>\n",
       "    </tr>\n",
       "    <tr>\n",
       "      <th>1</th>\n",
       "      <td>2016</td>\n",
       "      <td>25 days 15:15:00</td>\n",
       "      <td>20 days 20:00:00</td>\n",
       "      <td>+115h 15m</td>\n",
       "      <td>True</td>\n",
       "    </tr>\n",
       "    <tr>\n",
       "      <th>2</th>\n",
       "      <td>2017</td>\n",
       "      <td>31 days 18:45:00</td>\n",
       "      <td>20 days 20:00:00</td>\n",
       "      <td>+262h 45m</td>\n",
       "      <td>True</td>\n",
       "    </tr>\n",
       "    <tr>\n",
       "      <th>3</th>\n",
       "      <td>2018</td>\n",
       "      <td>34 days 13:45:00</td>\n",
       "      <td>20 days 20:00:00</td>\n",
       "      <td>+329h 45m</td>\n",
       "      <td>True</td>\n",
       "    </tr>\n",
       "    <tr>\n",
       "      <th>4</th>\n",
       "      <td>2019</td>\n",
       "      <td>21 days 11:45:00</td>\n",
       "      <td>20 days 20:00:00</td>\n",
       "      <td>+15h 45m</td>\n",
       "      <td>True</td>\n",
       "    </tr>\n",
       "    <tr>\n",
       "      <th>5</th>\n",
       "      <td>2020</td>\n",
       "      <td>19 days 15:30:00</td>\n",
       "      <td>20 days 20:00:00</td>\n",
       "      <td>-29h 30m</td>\n",
       "      <td>False</td>\n",
       "    </tr>\n",
       "    <tr>\n",
       "      <th>6</th>\n",
       "      <td>2021</td>\n",
       "      <td>22 days 10:00:00</td>\n",
       "      <td>20 days 20:00:00</td>\n",
       "      <td>+38h 00m</td>\n",
       "      <td>True</td>\n",
       "    </tr>\n",
       "    <tr>\n",
       "      <th>7</th>\n",
       "      <td>2022</td>\n",
       "      <td>19 days 14:45:00</td>\n",
       "      <td>20 days 20:00:00</td>\n",
       "      <td>-30h 45m</td>\n",
       "      <td>False</td>\n",
       "    </tr>\n",
       "    <tr>\n",
       "      <th>8</th>\n",
       "      <td>2023</td>\n",
       "      <td>8 days 14:30:00</td>\n",
       "      <td>16 days 16:00:00</td>\n",
       "      <td>-194h 30m</td>\n",
       "      <td>False</td>\n",
       "    </tr>\n",
       "  </tbody>\n",
       "</table>\n",
       "</div>"
      ],
      "text/plain": [
       "   Year         Duration     YearlyTarget TargetDiff  IsTargetMet\n",
       "0  2015  0 days 18:00:00  0 days 00:00:00   +18h 00m         True\n",
       "1  2016 25 days 15:15:00 20 days 20:00:00  +115h 15m         True\n",
       "2  2017 31 days 18:45:00 20 days 20:00:00  +262h 45m         True\n",
       "3  2018 34 days 13:45:00 20 days 20:00:00  +329h 45m         True\n",
       "4  2019 21 days 11:45:00 20 days 20:00:00   +15h 45m         True\n",
       "5  2020 19 days 15:30:00 20 days 20:00:00   -29h 30m        False\n",
       "6  2021 22 days 10:00:00 20 days 20:00:00   +38h 00m         True\n",
       "7  2022 19 days 14:45:00 20 days 20:00:00   -30h 45m        False\n",
       "8  2023  8 days 14:30:00 16 days 16:00:00  -194h 30m        False"
      ]
     },
     "metadata": {},
     "output_type": "display_data"
    }
   ],
   "source": [
    "tt_by_year_df : DataFrame = nwttm.get_tt_by_year(\n",
    "    sessions_df = sessions_df, \n",
    "    years = setting_collection.years, \n",
    "    yearly_targets = setting_collection.yearly_targets\n",
    "    )\n",
    "\n",
    "display(tt_by_year_df)\n",
    "\n"
   ]
  },
  {
   "cell_type": "code",
   "execution_count": null,
   "metadata": {},
   "outputs": [],
   "source": []
  },
  {
   "cell_type": "code",
   "execution_count": null,
   "metadata": {},
   "outputs": [],
   "source": []
  },
  {
   "cell_type": "code",
   "execution_count": null,
   "metadata": {},
   "outputs": [],
   "source": []
  }
 ],
 "metadata": {
  "kernelspec": {
   "display_name": "Python 3",
   "language": "python",
   "name": "python3"
  },
  "language_info": {
   "codemirror_mode": {
    "name": "ipython",
    "version": 3
   },
   "file_extension": ".py",
   "mimetype": "text/x-python",
   "name": "python",
   "nbconvert_exporter": "python",
   "pygments_lexer": "ipython3",
   "version": "3.11.0"
  },
  "orig_nbformat": 4,
  "vscode": {
   "interpreter": {
    "hash": "0a8089cacc208889ee75fc820c9d7aefe4dbe23921694f1e3f9e11a586a8c0ec"
   }
  }
 },
 "nbformat": 4,
 "nbformat_minor": 2
}
