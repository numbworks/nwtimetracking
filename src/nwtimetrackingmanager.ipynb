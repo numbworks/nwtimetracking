{
 "cells": [
  {
   "attachments": {},
   "cell_type": "markdown",
   "metadata": {},
   "source": [
    "|||\n",
    "|---|---|\n",
    "|Title|nwtimetrackingmanager|\n",
    "|Author|numbworks|\n",
    "|Version|1.0.0|\n",
    "||Please check [docs/docs-nwtimetrackingmanager.md](../docs/docs-nwtimetrackingmanager.md) before proceeding.|"
   ]
  },
  {
   "attachments": {},
   "cell_type": "markdown",
   "metadata": {},
   "source": [
    "#### Setup"
   ]
  },
  {
   "cell_type": "code",
   "execution_count": 337,
   "metadata": {},
   "outputs": [],
   "source": [
    "install_dependencies : bool = False\n",
    "\n",
    "if install_dependencies:\n",
    "    %pip install pandas==1.5.2\n",
    "    %pip install numpy==1.24.0\n",
    "    %pip install openpyxl==3.0.10\n",
    "    %pip install coverage==7.2.3\n"
   ]
  },
  {
   "attachments": {},
   "cell_type": "markdown",
   "metadata": {},
   "source": [
    "#### Global Modules"
   ]
  },
  {
   "cell_type": "code",
   "execution_count": 338,
   "metadata": {},
   "outputs": [],
   "source": [
    "from datetime import datetime\n",
    "from datetime import timedelta\n",
    "from pandas import DataFrame\n"
   ]
  },
  {
   "attachments": {},
   "cell_type": "markdown",
   "metadata": {},
   "source": [
    "#### Local Modules"
   ]
  },
  {
   "cell_type": "code",
   "execution_count": 339,
   "metadata": {},
   "outputs": [],
   "source": [
    "import nwtimetrackingmanager as nwttm\n",
    "from nwtimetrackingmanager import YearlyTarget\n",
    "from nwtimetrackingmanager import SettingCollection"
   ]
  },
  {
   "attachments": {},
   "cell_type": "markdown",
   "metadata": {},
   "source": [
    "#### Functions : Temp"
   ]
  },
  {
   "cell_type": "code",
   "execution_count": null,
   "metadata": {},
   "outputs": [],
   "source": []
  },
  {
   "attachments": {},
   "cell_type": "markdown",
   "metadata": {},
   "source": [
    "#### Settings"
   ]
  },
  {
   "cell_type": "code",
   "execution_count": 340,
   "metadata": {},
   "outputs": [],
   "source": [
    "setting_collection : SettingCollection = SettingCollection(\n",
    "    years = [2015, 2016, 2017, 2018, 2019, 2020, 2021, 2022, 2023],\n",
    "    yearly_targets = [\n",
    "        YearlyTarget(year = 2015, hours = timedelta(hours = 0)),\n",
    "        YearlyTarget(year = 2016, hours = timedelta(hours = 500)),\n",
    "        YearlyTarget(year = 2017, hours = timedelta(hours = 500)),\n",
    "        YearlyTarget(year = 2018, hours = timedelta(hours = 500)),\n",
    "        YearlyTarget(year = 2019, hours = timedelta(hours = 500)),\n",
    "        YearlyTarget(year = 2020, hours = timedelta(hours = 500)),\n",
    "        YearlyTarget(year = 2021, hours = timedelta(hours = 500)),\n",
    "        YearlyTarget(year = 2022, hours = timedelta(hours = 500)),\n",
    "        YearlyTarget(year = 2023, hours = timedelta(hours = 400))\n",
    "    ],\n",
    "    excel_path = nwttm.get_default_time_tracking_path(),\n",
    "    excel_books_skiprows = 0,\n",
    "    excel_books_nrows = 187,\n",
    "    excel_books_tabname = \"Sessions\",\n",
    "    n_generic = 5,\n",
    "    n_by_month = 12,\n",
    "    now = datetime.now(),\n",
    "    software_project_names = [\n",
    "        \"nwtraderaanalytics\", \n",
    "        \"nwreadinglistmanager\",\n",
    "        \"nwtimetrackingmanager\"\n",
    "\t],\n",
    "    show_sessions_df = True,\n",
    "    show_tt_by_year_df = False,\n",
    "    show_tt_by_year_month_df = True\n",
    ")\n"
   ]
  },
  {
   "attachments": {},
   "cell_type": "markdown",
   "metadata": {},
   "source": [
    "#### Main : Analysis"
   ]
  },
  {
   "cell_type": "code",
   "execution_count": 341,
   "metadata": {},
   "outputs": [
    {
     "data": {
      "text/html": [
       "<div>\n",
       "<style scoped>\n",
       "    .dataframe tbody tr th:only-of-type {\n",
       "        vertical-align: middle;\n",
       "    }\n",
       "\n",
       "    .dataframe tbody tr th {\n",
       "        vertical-align: top;\n",
       "    }\n",
       "\n",
       "    .dataframe thead th {\n",
       "        text-align: right;\n",
       "    }\n",
       "</style>\n",
       "<table border=\"1\" class=\"dataframe\">\n",
       "  <thead>\n",
       "    <tr style=\"text-align: right;\">\n",
       "      <th></th>\n",
       "      <th>Date</th>\n",
       "      <th>StartTime</th>\n",
       "      <th>EndTime</th>\n",
       "      <th>Duration</th>\n",
       "      <th>Hashtag</th>\n",
       "      <th>Descriptor</th>\n",
       "      <th>IsSoftwareProject</th>\n",
       "      <th>IsReleaseDay</th>\n",
       "      <th>Year</th>\n",
       "      <th>Month</th>\n",
       "    </tr>\n",
       "  </thead>\n",
       "  <tbody>\n",
       "    <tr>\n",
       "      <th>0</th>\n",
       "      <td>2015-10-31</td>\n",
       "      <td>nan</td>\n",
       "      <td>nan</td>\n",
       "      <td>8h 00m</td>\n",
       "      <td>#untagged</td>\n",
       "      <td>nan</td>\n",
       "      <td>False</td>\n",
       "      <td>False</td>\n",
       "      <td>2015</td>\n",
       "      <td>10</td>\n",
       "    </tr>\n",
       "    <tr>\n",
       "      <th>1</th>\n",
       "      <td>2015-11-30</td>\n",
       "      <td>nan</td>\n",
       "      <td>nan</td>\n",
       "      <td>10h 00m</td>\n",
       "      <td>#untagged</td>\n",
       "      <td>nan</td>\n",
       "      <td>False</td>\n",
       "      <td>False</td>\n",
       "      <td>2015</td>\n",
       "      <td>11</td>\n",
       "    </tr>\n",
       "    <tr>\n",
       "      <th>2</th>\n",
       "      <td>2015-12-31</td>\n",
       "      <td>nan</td>\n",
       "      <td>nan</td>\n",
       "      <td>0h 00m</td>\n",
       "      <td>#untagged</td>\n",
       "      <td>nan</td>\n",
       "      <td>False</td>\n",
       "      <td>False</td>\n",
       "      <td>2015</td>\n",
       "      <td>12</td>\n",
       "    </tr>\n",
       "    <tr>\n",
       "      <th>3</th>\n",
       "      <td>2016-01-31</td>\n",
       "      <td>nan</td>\n",
       "      <td>nan</td>\n",
       "      <td>18h 00m</td>\n",
       "      <td>#untagged</td>\n",
       "      <td>nan</td>\n",
       "      <td>False</td>\n",
       "      <td>False</td>\n",
       "      <td>2016</td>\n",
       "      <td>1</td>\n",
       "    </tr>\n",
       "    <tr>\n",
       "      <th>4</th>\n",
       "      <td>2016-02-28</td>\n",
       "      <td>nan</td>\n",
       "      <td>nan</td>\n",
       "      <td>45h 30m</td>\n",
       "      <td>#untagged</td>\n",
       "      <td>nan</td>\n",
       "      <td>False</td>\n",
       "      <td>False</td>\n",
       "      <td>2016</td>\n",
       "      <td>2</td>\n",
       "    </tr>\n",
       "  </tbody>\n",
       "</table>\n",
       "</div>"
      ],
      "text/plain": [
       "         Date StartTime EndTime Duration    Hashtag Descriptor  \\\n",
       "0  2015-10-31       nan     nan   8h 00m  #untagged        nan   \n",
       "1  2015-11-30       nan     nan  10h 00m  #untagged        nan   \n",
       "2  2015-12-31       nan     nan   0h 00m  #untagged        nan   \n",
       "3  2016-01-31       nan     nan  18h 00m  #untagged        nan   \n",
       "4  2016-02-28       nan     nan  45h 30m  #untagged        nan   \n",
       "\n",
       "   IsSoftwareProject  IsReleaseDay  Year  Month  \n",
       "0              False         False  2015     10  \n",
       "1              False         False  2015     11  \n",
       "2              False         False  2015     12  \n",
       "3              False         False  2016      1  \n",
       "4              False         False  2016      2  "
      ]
     },
     "metadata": {},
     "output_type": "display_data"
    }
   ],
   "source": [
    "sessions_df : DataFrame = nwttm.get_sessions_dataset(setting_collection = setting_collection)\n",
    "\n",
    "if setting_collection.show_sessions_df:\n",
    "    display(sessions_df.head(n = setting_collection.n_generic))\n"
   ]
  },
  {
   "cell_type": "code",
   "execution_count": 342,
   "metadata": {},
   "outputs": [],
   "source": [
    "tt_by_year_df : DataFrame = nwttm.get_tt_by_year(\n",
    "    sessions_df = sessions_df, \n",
    "    years = setting_collection.years, \n",
    "    yearly_targets = setting_collection.yearly_targets\n",
    "    )\n",
    "\n",
    "if setting_collection.show_tt_by_year_df:\n",
    "    display(tt_by_year_df)\n"
   ]
  },
  {
   "cell_type": "code",
   "execution_count": 343,
   "metadata": {},
   "outputs": [
    {
     "data": {
      "text/html": [
       "<div>\n",
       "<style scoped>\n",
       "    .dataframe tbody tr th:only-of-type {\n",
       "        vertical-align: middle;\n",
       "    }\n",
       "\n",
       "    .dataframe tbody tr th {\n",
       "        vertical-align: top;\n",
       "    }\n",
       "\n",
       "    .dataframe thead th {\n",
       "        text-align: right;\n",
       "    }\n",
       "</style>\n",
       "<table border=\"1\" class=\"dataframe\">\n",
       "  <thead>\n",
       "    <tr style=\"text-align: right;\">\n",
       "      <th></th>\n",
       "      <th>Year</th>\n",
       "      <th>Month</th>\n",
       "      <th>Duration</th>\n",
       "      <th>YearlyTotal</th>\n",
       "      <th>ToTarget</th>\n",
       "    </tr>\n",
       "  </thead>\n",
       "  <tbody>\n",
       "    <tr>\n",
       "      <th>91</th>\n",
       "      <td>2023</td>\n",
       "      <td>5</td>\n",
       "      <td>31h 00m</td>\n",
       "      <td>129h 15m</td>\n",
       "      <td>-271h 15m</td>\n",
       "    </tr>\n",
       "    <tr>\n",
       "      <th>92</th>\n",
       "      <td>2023</td>\n",
       "      <td>6</td>\n",
       "      <td>24h 45m</td>\n",
       "      <td>154h 00m</td>\n",
       "      <td>-246h 00m</td>\n",
       "    </tr>\n",
       "    <tr>\n",
       "      <th>93</th>\n",
       "      <td>2023</td>\n",
       "      <td>7</td>\n",
       "      <td>16h 30m</td>\n",
       "      <td>170h 30m</td>\n",
       "      <td>-230h 30m</td>\n",
       "    </tr>\n",
       "    <tr>\n",
       "      <th>94</th>\n",
       "      <td>2023</td>\n",
       "      <td>8</td>\n",
       "      <td>41h 30m</td>\n",
       "      <td>212h 00m</td>\n",
       "      <td>-188h 00m</td>\n",
       "    </tr>\n",
       "    <tr>\n",
       "      <th>95</th>\n",
       "      <td>2023</td>\n",
       "      <td>9</td>\n",
       "      <td>36h 30m</td>\n",
       "      <td>248h 30m</td>\n",
       "      <td>-152h 30m</td>\n",
       "    </tr>\n",
       "  </tbody>\n",
       "</table>\n",
       "</div>"
      ],
      "text/plain": [
       "    Year  Month Duration YearlyTotal   ToTarget\n",
       "91  2023      5  31h 00m    129h 15m  -271h 15m\n",
       "92  2023      6  24h 45m    154h 00m  -246h 00m\n",
       "93  2023      7  16h 30m    170h 30m  -230h 30m\n",
       "94  2023      8  41h 30m    212h 00m  -188h 00m\n",
       "95  2023      9  36h 30m    248h 30m  -152h 30m"
      ]
     },
     "metadata": {},
     "output_type": "display_data"
    }
   ],
   "source": [
    "tt_by_year_month_df : DataFrame = nwttm.get_tt_by_year_month(\n",
    "    sessions_df = sessions_df, \n",
    "    years = setting_collection.years, \n",
    "    yearly_targets = setting_collection.yearly_targets\n",
    "    )\n",
    "\n",
    "if setting_collection.show_tt_by_year_month_df:\n",
    "    display(tt_by_year_month_df.tail(n = setting_collection.n_generic))\n"
   ]
  },
  {
   "cell_type": "code",
   "execution_count": 344,
   "metadata": {},
   "outputs": [
    {
     "ename": "UnboundLocalError",
     "evalue": "local variable 'cn_effort' referenced before assignment",
     "output_type": "error",
     "traceback": [
      "\u001b[1;31m---------------------------------------------------------------------------\u001b[0m",
      "\u001b[1;31mUnboundLocalError\u001b[0m                         Traceback (most recent call last)",
      "\u001b[1;32mc:\\Dropbox\\Repositories\\jupnb-nwtimetrackingmanager\\nwtimetrackingmanager\\src\\nwtimetrackingmanager.ipynb Cell 16\u001b[0m line \u001b[0;36m<cell line: 1>\u001b[1;34m()\u001b[0m\n\u001b[1;32m----> <a href='vscode-notebook-cell:/c%3A/Dropbox/Repositories/jupnb-nwtimetrackingmanager/nwtimetrackingmanager/src/nwtimetrackingmanager.ipynb#X21sZmlsZQ%3D%3D?line=0'>1</a>\u001b[0m tt_by_year_month_sp_df : DataFrame \u001b[39m=\u001b[39m nwttm\u001b[39m.\u001b[39;49mget_raw_tt_by_year_month_sp(\n\u001b[0;32m      <a href='vscode-notebook-cell:/c%3A/Dropbox/Repositories/jupnb-nwtimetrackingmanager/nwtimetrackingmanager/src/nwtimetrackingmanager.ipynb#X21sZmlsZQ%3D%3D?line=1'>2</a>\u001b[0m     sessions_df \u001b[39m=\u001b[39;49m sessions_df, \n\u001b[0;32m      <a href='vscode-notebook-cell:/c%3A/Dropbox/Repositories/jupnb-nwtimetrackingmanager/nwtimetrackingmanager/src/nwtimetrackingmanager.ipynb#X21sZmlsZQ%3D%3D?line=2'>3</a>\u001b[0m     years \u001b[39m=\u001b[39;49m setting_collection\u001b[39m.\u001b[39;49myears, \n\u001b[0;32m      <a href='vscode-notebook-cell:/c%3A/Dropbox/Repositories/jupnb-nwtimetrackingmanager/nwtimetrackingmanager/src/nwtimetrackingmanager.ipynb#X21sZmlsZQ%3D%3D?line=3'>4</a>\u001b[0m     software_project_names \u001b[39m=\u001b[39;49m setting_collection\u001b[39m.\u001b[39;49msoftware_project_names\n\u001b[0;32m      <a href='vscode-notebook-cell:/c%3A/Dropbox/Repositories/jupnb-nwtimetrackingmanager/nwtimetrackingmanager/src/nwtimetrackingmanager.ipynb#X21sZmlsZQ%3D%3D?line=4'>5</a>\u001b[0m     )\n\u001b[0;32m      <a href='vscode-notebook-cell:/c%3A/Dropbox/Repositories/jupnb-nwtimetrackingmanager/nwtimetrackingmanager/src/nwtimetrackingmanager.ipynb#X21sZmlsZQ%3D%3D?line=6'>7</a>\u001b[0m display(tt_by_year_month_sp_df)\n",
      "File \u001b[1;32mc:\\Dropbox\\Repositories\\jupnb-nwtimetrackingmanager\\nwtimetrackingmanager\\src\\nwtimetrackingmanager.py:373\u001b[0m, in \u001b[0;36mget_raw_tt_by_year_month_sp\u001b[1;34m(sessions_df, years, software_project_names)\u001b[0m\n\u001b[0;32m    371\u001b[0m cn_duration : \u001b[39mstr\u001b[39m \u001b[39m=\u001b[39m \u001b[39m\"\u001b[39m\u001b[39mDuration\u001b[39m\u001b[39m\"\u001b[39m\n\u001b[0;32m    372\u001b[0m tt_df[cn_duration] \u001b[39m=\u001b[39m tt_df[cn_duration]\u001b[39m.\u001b[39mapply(\u001b[39mlambda\u001b[39;00m x : convert_string_to_timedelta(td_str \u001b[39m=\u001b[39m x))\n\u001b[1;32m--> 373\u001b[0m tt_df \u001b[39m=\u001b[39m tt_df\u001b[39m.\u001b[39mgroupby(by \u001b[39m=\u001b[39m [cn_year, cn_month, cn_project_name, cn_project_version])[cn_effort]\u001b[39m.\u001b[39msum()\u001b[39m.\u001b[39msort_values(ascending \u001b[39m=\u001b[39m [\u001b[39mFalse\u001b[39;00m])\u001b[39m.\u001b[39mreset_index(name \u001b[39m=\u001b[39m cn_effort)\n\u001b[0;32m    374\u001b[0m tt_df \u001b[39m=\u001b[39m tt_df\u001b[39m.\u001b[39msort_values(by \u001b[39m=\u001b[39m [cn_year, cn_month, cn_project_name, cn_project_version])\u001b[39m.\u001b[39mreset_index(drop \u001b[39m=\u001b[39m \u001b[39mTrue\u001b[39;00m)\n\u001b[0;32m    376\u001b[0m cn_effort : \u001b[39mstr\u001b[39m \u001b[39m=\u001b[39m \u001b[39m\"\u001b[39m\u001b[39mEffort\u001b[39m\u001b[39m\"\u001b[39m\n",
      "\u001b[1;31mUnboundLocalError\u001b[0m: local variable 'cn_effort' referenced before assignment"
     ]
    }
   ],
   "source": [
    "tt_by_year_month_sp_df : DataFrame = nwttm.get_raw_tt_by_year_month_sp(\n",
    "    sessions_df = sessions_df, \n",
    "    years = setting_collection.years, \n",
    "    software_project_names = setting_collection.software_project_names\n",
    "    )\n",
    "\n",
    "display(tt_by_year_month_sp_df)\n"
   ]
  },
  {
   "cell_type": "code",
   "execution_count": null,
   "metadata": {},
   "outputs": [],
   "source": [
    "\n"
   ]
  },
  {
   "cell_type": "code",
   "execution_count": null,
   "metadata": {},
   "outputs": [],
   "source": []
  },
  {
   "cell_type": "code",
   "execution_count": null,
   "metadata": {},
   "outputs": [],
   "source": []
  }
 ],
 "metadata": {
  "kernelspec": {
   "display_name": "Python 3",
   "language": "python",
   "name": "python3"
  },
  "language_info": {
   "codemirror_mode": {
    "name": "ipython",
    "version": 3
   },
   "file_extension": ".py",
   "mimetype": "text/x-python",
   "name": "python",
   "nbconvert_exporter": "python",
   "pygments_lexer": "ipython3",
   "version": "3.10.6"
  },
  "orig_nbformat": 4,
  "vscode": {
   "interpreter": {
    "hash": "0a8089cacc208889ee75fc820c9d7aefe4dbe23921694f1e3f9e11a586a8c0ec"
   }
  }
 },
 "nbformat": 4,
 "nbformat_minor": 2
}
