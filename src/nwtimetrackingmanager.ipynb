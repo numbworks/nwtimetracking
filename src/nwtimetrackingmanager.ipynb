{
 "cells": [
  {
   "attachments": {},
   "cell_type": "markdown",
   "metadata": {},
   "source": [
    "|||\n",
    "|---|---|\n",
    "|Title|nwtimetrackingmanager|\n",
    "|Author|numbworks|\n",
    "|Version|1.0.0|\n",
    "||Please check [docs/docs-nwtimetrackingmanager.md](../docs/docs-nwtimetrackingmanager.md) before proceeding.|"
   ]
  },
  {
   "attachments": {},
   "cell_type": "markdown",
   "metadata": {},
   "source": [
    "#### Setup"
   ]
  },
  {
   "cell_type": "code",
   "execution_count": 428,
   "metadata": {},
   "outputs": [],
   "source": [
    "install_dependencies : bool = False\n",
    "\n",
    "if install_dependencies:\n",
    "    %pip install pandas==1.5.2\n",
    "    %pip install numpy==1.24.0\n",
    "    %pip install openpyxl==3.0.10\n",
    "    %pip install coverage==7.2.3\n"
   ]
  },
  {
   "attachments": {},
   "cell_type": "markdown",
   "metadata": {},
   "source": [
    "#### Global Modules"
   ]
  },
  {
   "cell_type": "code",
   "execution_count": 429,
   "metadata": {},
   "outputs": [],
   "source": [
    "from datetime import datetime\n",
    "from datetime import timedelta\n",
    "from pandas import DataFrame\n"
   ]
  },
  {
   "attachments": {},
   "cell_type": "markdown",
   "metadata": {},
   "source": [
    "#### Local Modules"
   ]
  },
  {
   "cell_type": "code",
   "execution_count": 430,
   "metadata": {},
   "outputs": [],
   "source": [
    "import nwtimetrackingmanager as nwttm\n",
    "from nwtimetrackingmanager import YearlyTarget\n",
    "from nwtimetrackingmanager import SettingCollection"
   ]
  },
  {
   "attachments": {},
   "cell_type": "markdown",
   "metadata": {},
   "source": [
    "#### Functions : Temp"
   ]
  },
  {
   "cell_type": "code",
   "execution_count": null,
   "metadata": {},
   "outputs": [],
   "source": []
  },
  {
   "attachments": {},
   "cell_type": "markdown",
   "metadata": {},
   "source": [
    "#### Settings"
   ]
  },
  {
   "cell_type": "code",
   "execution_count": 431,
   "metadata": {},
   "outputs": [],
   "source": [
    "setting_collection : SettingCollection = SettingCollection(\n",
    "    years = [2015, 2016, 2017, 2018, 2019, 2020, 2021, 2022, 2023],\n",
    "    yearly_targets = [\n",
    "        YearlyTarget(year = 2015, hours = timedelta(hours = 0)),\n",
    "        YearlyTarget(year = 2016, hours = timedelta(hours = 500)),\n",
    "        YearlyTarget(year = 2017, hours = timedelta(hours = 500)),\n",
    "        YearlyTarget(year = 2018, hours = timedelta(hours = 500)),\n",
    "        YearlyTarget(year = 2019, hours = timedelta(hours = 500)),\n",
    "        YearlyTarget(year = 2020, hours = timedelta(hours = 500)),\n",
    "        YearlyTarget(year = 2021, hours = timedelta(hours = 500)),\n",
    "        YearlyTarget(year = 2022, hours = timedelta(hours = 500)),\n",
    "        YearlyTarget(year = 2023, hours = timedelta(hours = 400))\n",
    "    ],\n",
    "    excel_path = nwttm.get_default_time_tracking_path(),\n",
    "    excel_books_skiprows = 0,\n",
    "    excel_books_nrows = 178,\n",
    "    excel_books_tabname = \"Sessions\",\n",
    "    n_generic = 5,\n",
    "    n_by_month = 12,\n",
    "    now = datetime.now(),\n",
    "    show_sessions_df = True,\n",
    "    show_tt_by_year_df = False,\n",
    "    show_tt_by_year_month_df = True\n",
    ")\n"
   ]
  },
  {
   "attachments": {},
   "cell_type": "markdown",
   "metadata": {},
   "source": [
    "#### Main : Analysis"
   ]
  },
  {
   "cell_type": "code",
   "execution_count": 432,
   "metadata": {},
   "outputs": [
    {
     "ename": "IndexError",
     "evalue": "list index out of range",
     "output_type": "error",
     "traceback": [
      "\u001b[1;31m---------------------------------------------------------------------------\u001b[0m",
      "\u001b[1;31mIndexError\u001b[0m                                Traceback (most recent call last)",
      "Cell \u001b[1;32mIn[432], line 1\u001b[0m\n\u001b[1;32m----> 1\u001b[0m sessions_df : DataFrame \u001b[39m=\u001b[39m nwttm\u001b[39m.\u001b[39;49mget_sessions_dataset(setting_collection \u001b[39m=\u001b[39;49m setting_collection)\n\u001b[0;32m      3\u001b[0m \u001b[39mif\u001b[39;00m setting_collection\u001b[39m.\u001b[39mshow_sessions_df:\n\u001b[0;32m      4\u001b[0m     display(sessions_df\u001b[39m.\u001b[39mhead(n \u001b[39m=\u001b[39m setting_collection\u001b[39m.\u001b[39mn_generic))\n",
      "File \u001b[1;32mc:\\Dropbox\\Repositories\\jupnb-nwtimetrackingmanager\\nwtimetrackingmanager\\src\\nwtimetrackingmanager.py:129\u001b[0m, in \u001b[0;36mget_sessions_dataset\u001b[1;34m(setting_collection)\u001b[0m\n\u001b[0;32m    127\u001b[0m dataset_df \u001b[39m=\u001b[39m dataset_df\u001b[39m.\u001b[39mastype({column_names[\u001b[39m7\u001b[39m]: \u001b[39mstr\u001b[39m})\n\u001b[0;32m    128\u001b[0m dataset_df \u001b[39m=\u001b[39m dataset_df\u001b[39m.\u001b[39mastype({column_names[\u001b[39m8\u001b[39m]: \u001b[39mint\u001b[39m})\n\u001b[1;32m--> 129\u001b[0m dataset_df \u001b[39m=\u001b[39m dataset_df\u001b[39m.\u001b[39mastype({column_names[\u001b[39m90\u001b[39;49m]: \u001b[39mint\u001b[39m})\n\u001b[0;32m    131\u001b[0m \u001b[39mreturn\u001b[39;00m dataset_df\n",
      "\u001b[1;31mIndexError\u001b[0m: list index out of range"
     ]
    }
   ],
   "source": [
    "sessions_df : DataFrame = nwttm.get_sessions_dataset(setting_collection = setting_collection)\n",
    "\n",
    "if setting_collection.show_sessions_df:\n",
    "    display(sessions_df.head(n = setting_collection.n_generic))\n"
   ]
  },
  {
   "cell_type": "code",
   "execution_count": null,
   "metadata": {},
   "outputs": [],
   "source": [
    "tt_by_year_df : DataFrame = nwttm.get_tt_by_year(\n",
    "    sessions_df = sessions_df, \n",
    "    years = setting_collection.years, \n",
    "    yearly_targets = setting_collection.yearly_targets\n",
    "    )\n",
    "\n",
    "if setting_collection.show_tt_by_year_df:\n",
    "    display(tt_by_year_df)\n"
   ]
  },
  {
   "cell_type": "code",
   "execution_count": null,
   "metadata": {},
   "outputs": [
    {
     "data": {
      "text/html": [
       "<div>\n",
       "<style scoped>\n",
       "    .dataframe tbody tr th:only-of-type {\n",
       "        vertical-align: middle;\n",
       "    }\n",
       "\n",
       "    .dataframe tbody tr th {\n",
       "        vertical-align: top;\n",
       "    }\n",
       "\n",
       "    .dataframe thead th {\n",
       "        text-align: right;\n",
       "    }\n",
       "</style>\n",
       "<table border=\"1\" class=\"dataframe\">\n",
       "  <thead>\n",
       "    <tr style=\"text-align: right;\">\n",
       "      <th></th>\n",
       "      <th>Year</th>\n",
       "      <th>Month</th>\n",
       "      <th>Duration</th>\n",
       "      <th>YearlyTotal</th>\n",
       "      <th>ToTarget</th>\n",
       "    </tr>\n",
       "  </thead>\n",
       "  <tbody>\n",
       "    <tr>\n",
       "      <th>91</th>\n",
       "      <td>2023</td>\n",
       "      <td>5</td>\n",
       "      <td>31h 00m</td>\n",
       "      <td>129h 15m</td>\n",
       "      <td>-271h 15m</td>\n",
       "    </tr>\n",
       "    <tr>\n",
       "      <th>92</th>\n",
       "      <td>2023</td>\n",
       "      <td>6</td>\n",
       "      <td>24h 45m</td>\n",
       "      <td>154h 00m</td>\n",
       "      <td>-246h 00m</td>\n",
       "    </tr>\n",
       "    <tr>\n",
       "      <th>93</th>\n",
       "      <td>2023</td>\n",
       "      <td>7</td>\n",
       "      <td>16h 30m</td>\n",
       "      <td>170h 30m</td>\n",
       "      <td>-230h 30m</td>\n",
       "    </tr>\n",
       "    <tr>\n",
       "      <th>94</th>\n",
       "      <td>2023</td>\n",
       "      <td>8</td>\n",
       "      <td>41h 30m</td>\n",
       "      <td>212h 00m</td>\n",
       "      <td>-188h 00m</td>\n",
       "    </tr>\n",
       "    <tr>\n",
       "      <th>95</th>\n",
       "      <td>2023</td>\n",
       "      <td>9</td>\n",
       "      <td>22h 30m</td>\n",
       "      <td>234h 30m</td>\n",
       "      <td>-166h 30m</td>\n",
       "    </tr>\n",
       "  </tbody>\n",
       "</table>\n",
       "</div>"
      ],
      "text/plain": [
       "    Year  Month Duration YearlyTotal   ToTarget\n",
       "91  2023      5  31h 00m    129h 15m  -271h 15m\n",
       "92  2023      6  24h 45m    154h 00m  -246h 00m\n",
       "93  2023      7  16h 30m    170h 30m  -230h 30m\n",
       "94  2023      8  41h 30m    212h 00m  -188h 00m\n",
       "95  2023      9  22h 30m    234h 30m  -166h 30m"
      ]
     },
     "metadata": {},
     "output_type": "display_data"
    }
   ],
   "source": [
    "tt_by_year_month_df : DataFrame = nwttm.get_tt_by_year_month(\n",
    "    sessions_df = sessions_df, \n",
    "    years = setting_collection.years, \n",
    "    yearly_targets = setting_collection.yearly_targets\n",
    "    )\n",
    "\n",
    "if setting_collection.show_tt_by_year_month_df:\n",
    "    display(tt_by_year_month_df.tail(n = setting_collection.n_generic))\n"
   ]
  },
  {
   "cell_type": "code",
   "execution_count": null,
   "metadata": {},
   "outputs": [],
   "source": []
  },
  {
   "cell_type": "code",
   "execution_count": null,
   "metadata": {},
   "outputs": [],
   "source": []
  }
 ],
 "metadata": {
  "kernelspec": {
   "display_name": "Python 3",
   "language": "python",
   "name": "python3"
  },
  "language_info": {
   "codemirror_mode": {
    "name": "ipython",
    "version": 3
   },
   "file_extension": ".py",
   "mimetype": "text/x-python",
   "name": "python",
   "nbconvert_exporter": "python",
   "pygments_lexer": "ipython3",
   "version": "3.11.0"
  },
  "orig_nbformat": 4,
  "vscode": {
   "interpreter": {
    "hash": "0a8089cacc208889ee75fc820c9d7aefe4dbe23921694f1e3f9e11a586a8c0ec"
   }
  }
 },
 "nbformat": 4,
 "nbformat_minor": 2
}
