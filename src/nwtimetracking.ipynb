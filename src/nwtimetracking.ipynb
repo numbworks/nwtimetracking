{
 "cells": [
  {
   "attachments": {},
   "cell_type": "markdown",
   "metadata": {},
   "source": [
    "|||\n",
    "|---|---|\n",
    "|Title|nwtimetracking|\n",
    "|Author|numbworks|\n",
    "|Version|3.9.0|\n",
    "||Please check [docs/docs-nwtimetracking.md](../docs/docs-nwtimetracking.md) before proceeding.|"
   ]
  },
  {
   "attachments": {},
   "cell_type": "markdown",
   "metadata": {},
   "source": [
    "#### Global Modules"
   ]
  },
  {
   "cell_type": "code",
   "execution_count": 23,
   "metadata": {},
   "outputs": [],
   "source": [
    "from pandas import DataFrame\n",
    "from typing import Optional"
   ]
  },
  {
   "attachments": {},
   "cell_type": "markdown",
   "metadata": {},
   "source": [
    "#### Local Modules"
   ]
  },
  {
   "cell_type": "code",
   "execution_count": 24,
   "metadata": {},
   "outputs": [],
   "source": [
    "from nwtimetracking import SettingBag, DefaultPathProvider, YearProvider, SoftwareProjectNameProvider, TimeTrackingProcessor\n",
    "from nwtimetracking import ComponentBag, TTMarkdownFactory\n",
    "from nwpackageversions import LanguageChecker, RequirementChecker, RequirementSummary"
   ]
  },
  {
   "cell_type": "markdown",
   "metadata": {},
   "source": [
    "#### Language/Requirement Checks"
   ]
  },
  {
   "cell_type": "code",
   "execution_count": 25,
   "metadata": {},
   "outputs": [
    {
     "name": "stdout",
     "output_type": "stream",
     "text": [
      "The installed Python version is matching the expected one (installed: '3.12.5', expected: '3.12.5').\n"
     ]
    }
   ],
   "source": [
    "enable_language_status_check : bool = True\n",
    "enable_requirement_status_check : bool = False\n",
    "\n",
    "if enable_language_status_check:\n",
    "    language_status : str = LanguageChecker().get_version_status(required = (3, 12, 5))\n",
    "    print(language_status)\n",
    "\n",
    "if enable_requirement_status_check:\n",
    "    requirement_checker : RequirementChecker = RequirementChecker(logging_function = LambdaCollection().do_nothing_function())\n",
    "    dockerfile_path : str = requirement_checker.get_default_devcointainer_dockerfile_path()\n",
    "    requirement_status : Optional[RequirementSummary] = requirement_checker.try_check(file_path = dockerfile_path)\n",
    "    print(requirement_status)"
   ]
  },
  {
   "attachments": {},
   "cell_type": "markdown",
   "metadata": {},
   "source": [
    "#### Functions : Temp"
   ]
  },
  {
   "cell_type": "code",
   "execution_count": null,
   "metadata": {},
   "outputs": [],
   "source": []
  },
  {
   "attachments": {},
   "cell_type": "markdown",
   "metadata": {},
   "source": [
    "#### Settings"
   ]
  },
  {
   "cell_type": "code",
   "execution_count": null,
   "metadata": {},
   "outputs": [],
   "source": [
    "setting_bag : SettingBag = SettingBag(\n",
    "    excel_nrows = 1301,\n",
    "    options_tt = [],\n",
    "    options_tts_by_month = [\"display\", \"save\"],\n",
    "    options_tts_by_year = [\"display\"],\n",
    "    options_tts_by_year_month = [\"display\"],\n",
    "    options_tts_by_year_month_spnv = [\"display\"],\n",
    "    options_tts_by_spn = [\"display\"],\n",
    "    options_tts_by_spn_spv = [\"display\"],\n",
    "    options_tts_by_hashtag = [\"display\"],\n",
    "    options_tts_by_hashtag_year = [\"display\"],\n",
    "    options_tts_by_efs = [\"display\"],\n",
    "    options_tts_by_tr = [\"display\"],\n",
    "    options_definitions = [\"display\"]\n",
    ")\n"
   ]
  },
  {
   "attachments": {},
   "cell_type": "markdown",
   "metadata": {},
   "source": [
    "#### Main : Analysis"
   ]
  },
  {
   "cell_type": "code",
   "execution_count": 27,
   "metadata": {},
   "outputs": [
    {
     "data": {
      "text/html": [
       "<style type=\"text/css\">\n",
       "</style>\n",
       "<table id=\"T_0ef5d\">\n",
       "  <thead>\n",
       "    <tr>\n",
       "      <th id=\"T_0ef5d_level0_col0\" class=\"col_heading level0 col0\" >Date</th>\n",
       "      <th id=\"T_0ef5d_level0_col1\" class=\"col_heading level0 col1\" >StartTime</th>\n",
       "      <th id=\"T_0ef5d_level0_col2\" class=\"col_heading level0 col2\" >EndTime</th>\n",
       "      <th id=\"T_0ef5d_level0_col3\" class=\"col_heading level0 col3\" >Effort</th>\n",
       "      <th id=\"T_0ef5d_level0_col4\" class=\"col_heading level0 col4\" >Hashtag</th>\n",
       "      <th id=\"T_0ef5d_level0_col5\" class=\"col_heading level0 col5\" >Descriptor</th>\n",
       "      <th id=\"T_0ef5d_level0_col6\" class=\"col_heading level0 col6\" >IsSoftwareProject</th>\n",
       "      <th id=\"T_0ef5d_level0_col7\" class=\"col_heading level0 col7\" >IsReleaseDay</th>\n",
       "      <th id=\"T_0ef5d_level0_col8\" class=\"col_heading level0 col8\" >Year</th>\n",
       "      <th id=\"T_0ef5d_level0_col9\" class=\"col_heading level0 col9\" >Month</th>\n",
       "    </tr>\n",
       "  </thead>\n",
       "  <tbody>\n",
       "    <tr>\n",
       "      <td id=\"T_0ef5d_row0_col0\" class=\"data row0 col0\" >2024-12-01</td>\n",
       "      <td id=\"T_0ef5d_row0_col1\" class=\"data row0 col1\" >15:00</td>\n",
       "      <td id=\"T_0ef5d_row0_col2\" class=\"data row0 col2\" >15:45</td>\n",
       "      <td id=\"T_0ef5d_row0_col3\" class=\"data row0 col3\" >0h 45m</td>\n",
       "      <td id=\"T_0ef5d_row0_col4\" class=\"data row0 col4\" >#python</td>\n",
       "      <td id=\"T_0ef5d_row0_col5\" class=\"data row0 col5\" >nwpackageversions v1.8.0</td>\n",
       "      <td id=\"T_0ef5d_row0_col6\" class=\"data row0 col6\" >True</td>\n",
       "      <td id=\"T_0ef5d_row0_col7\" class=\"data row0 col7\" >True</td>\n",
       "      <td id=\"T_0ef5d_row0_col8\" class=\"data row0 col8\" >2024</td>\n",
       "      <td id=\"T_0ef5d_row0_col9\" class=\"data row0 col9\" >12</td>\n",
       "    </tr>\n",
       "    <tr>\n",
       "      <td id=\"T_0ef5d_row1_col0\" class=\"data row1 col0\" >2024-12-01</td>\n",
       "      <td id=\"T_0ef5d_row1_col1\" class=\"data row1 col1\" >15:45</td>\n",
       "      <td id=\"T_0ef5d_row1_col2\" class=\"data row1 col2\" >16:15</td>\n",
       "      <td id=\"T_0ef5d_row1_col3\" class=\"data row1 col3\" >0h 30m</td>\n",
       "      <td id=\"T_0ef5d_row1_col4\" class=\"data row1 col4\" >#python</td>\n",
       "      <td id=\"T_0ef5d_row1_col5\" class=\"data row1 col5\" >nwreadinglist v4.1.0</td>\n",
       "      <td id=\"T_0ef5d_row1_col6\" class=\"data row1 col6\" >True</td>\n",
       "      <td id=\"T_0ef5d_row1_col7\" class=\"data row1 col7\" >True</td>\n",
       "      <td id=\"T_0ef5d_row1_col8\" class=\"data row1 col8\" >2024</td>\n",
       "      <td id=\"T_0ef5d_row1_col9\" class=\"data row1 col9\" >12</td>\n",
       "    </tr>\n",
       "    <tr>\n",
       "      <td id=\"T_0ef5d_row2_col0\" class=\"data row2 col0\" >2024-12-01</td>\n",
       "      <td id=\"T_0ef5d_row2_col1\" class=\"data row2 col1\" >19:15</td>\n",
       "      <td id=\"T_0ef5d_row2_col2\" class=\"data row2 col2\" >19:30</td>\n",
       "      <td id=\"T_0ef5d_row2_col3\" class=\"data row2 col3\" >0h 15m</td>\n",
       "      <td id=\"T_0ef5d_row2_col4\" class=\"data row2 col4\" >#python</td>\n",
       "      <td id=\"T_0ef5d_row2_col5\" class=\"data row2 col5\" >nwreadinglist v4.1.0</td>\n",
       "      <td id=\"T_0ef5d_row2_col6\" class=\"data row2 col6\" >True</td>\n",
       "      <td id=\"T_0ef5d_row2_col7\" class=\"data row2 col7\" >True</td>\n",
       "      <td id=\"T_0ef5d_row2_col8\" class=\"data row2 col8\" >2024</td>\n",
       "      <td id=\"T_0ef5d_row2_col9\" class=\"data row2 col9\" >12</td>\n",
       "    </tr>\n",
       "    <tr>\n",
       "      <td id=\"T_0ef5d_row3_col0\" class=\"data row3 col0\" >2024-12-01</td>\n",
       "      <td id=\"T_0ef5d_row3_col1\" class=\"data row3 col1\" >19:30</td>\n",
       "      <td id=\"T_0ef5d_row3_col2\" class=\"data row3 col2\" >20:15</td>\n",
       "      <td id=\"T_0ef5d_row3_col3\" class=\"data row3 col3\" >0h 45m</td>\n",
       "      <td id=\"T_0ef5d_row3_col4\" class=\"data row3 col4\" >#python</td>\n",
       "      <td id=\"T_0ef5d_row3_col5\" class=\"data row3 col5\" >nwtimetracking v3.9.0</td>\n",
       "      <td id=\"T_0ef5d_row3_col6\" class=\"data row3 col6\" >True</td>\n",
       "      <td id=\"T_0ef5d_row3_col7\" class=\"data row3 col7\" >True</td>\n",
       "      <td id=\"T_0ef5d_row3_col8\" class=\"data row3 col8\" >2024</td>\n",
       "      <td id=\"T_0ef5d_row3_col9\" class=\"data row3 col9\" >12</td>\n",
       "    </tr>\n",
       "    <tr>\n",
       "      <td id=\"T_0ef5d_row4_col0\" class=\"data row4 col0\" >2024-12-01</td>\n",
       "      <td id=\"T_0ef5d_row4_col1\" class=\"data row4 col1\" >21:00</td>\n",
       "      <td id=\"T_0ef5d_row4_col2\" class=\"data row4 col2\" >23:00</td>\n",
       "      <td id=\"T_0ef5d_row4_col3\" class=\"data row4 col3\" >2h 00m</td>\n",
       "      <td id=\"T_0ef5d_row4_col4\" class=\"data row4 col4\" >#python</td>\n",
       "      <td id=\"T_0ef5d_row4_col5\" class=\"data row4 col5\" >nwtraderaanalytics v4.4.0</td>\n",
       "      <td id=\"T_0ef5d_row4_col6\" class=\"data row4 col6\" >True</td>\n",
       "      <td id=\"T_0ef5d_row4_col7\" class=\"data row4 col7\" >True</td>\n",
       "      <td id=\"T_0ef5d_row4_col8\" class=\"data row4 col8\" >2024</td>\n",
       "      <td id=\"T_0ef5d_row4_col9\" class=\"data row4 col9\" >12</td>\n",
       "    </tr>\n",
       "  </tbody>\n",
       "</table>\n"
      ],
      "text/plain": [
       "<pandas.io.formats.style.Styler at 0x7f8ed4667890>"
      ]
     },
     "metadata": {},
     "output_type": "display_data"
    }
   ],
   "source": [
    "tt_processor : TimeTrackingProcessor = TimeTrackingProcessor(component_bag = ComponentBag(), setting_bag = setting_bag)\n",
    "tt_processor.initialize()\n",
    "tt_processor.process_tt()"
   ]
  },
  {
   "cell_type": "code",
   "execution_count": null,
   "metadata": {},
   "outputs": [],
   "source": [
    "\n"
   ]
  },
  {
   "cell_type": "code",
   "execution_count": null,
   "metadata": {},
   "outputs": [],
   "source": [
    "\n"
   ]
  },
  {
   "cell_type": "code",
   "execution_count": null,
   "metadata": {},
   "outputs": [],
   "source": [
    "\n"
   ]
  },
  {
   "cell_type": "code",
   "execution_count": null,
   "metadata": {},
   "outputs": [],
   "source": [
    "\n"
   ]
  },
  {
   "cell_type": "code",
   "execution_count": null,
   "metadata": {},
   "outputs": [],
   "source": [
    "\n"
   ]
  },
  {
   "cell_type": "code",
   "execution_count": null,
   "metadata": {},
   "outputs": [],
   "source": [
    "\n"
   ]
  },
  {
   "cell_type": "code",
   "execution_count": null,
   "metadata": {},
   "outputs": [],
   "source": [
    "\n"
   ]
  },
  {
   "cell_type": "code",
   "execution_count": null,
   "metadata": {},
   "outputs": [],
   "source": [
    "\n"
   ]
  },
  {
   "cell_type": "code",
   "execution_count": null,
   "metadata": {},
   "outputs": [],
   "source": [
    "\n"
   ]
  },
  {
   "cell_type": "code",
   "execution_count": null,
   "metadata": {},
   "outputs": [],
   "source": [
    "\n"
   ]
  },
  {
   "cell_type": "code",
   "execution_count": null,
   "metadata": {},
   "outputs": [],
   "source": [
    "\n"
   ]
  }
 ],
 "metadata": {
  "kernelspec": {
   "display_name": "Python 3",
   "language": "python",
   "name": "python3"
  },
  "language_info": {
   "codemirror_mode": {
    "name": "ipython",
    "version": 3
   },
   "file_extension": ".py",
   "mimetype": "text/x-python",
   "name": "python",
   "nbconvert_exporter": "python",
   "pygments_lexer": "ipython3",
   "version": "3.12.5"
  },
  "orig_nbformat": 4,
  "vscode": {
   "interpreter": {
    "hash": "0a8089cacc208889ee75fc820c9d7aefe4dbe23921694f1e3f9e11a586a8c0ec"
   }
  }
 },
 "nbformat": 4,
 "nbformat_minor": 2
}
