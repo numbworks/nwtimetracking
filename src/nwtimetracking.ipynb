{
 "cells": [
  {
   "attachments": {},
   "cell_type": "markdown",
   "metadata": {},
   "source": [
    "|||\n",
    "|---|---|\n",
    "|Title|nwtimetracking|\n",
    "|Author|numbworks|\n",
    "|Version|3.9.0|\n",
    "||Please check [docs/docs-nwtimetracking.md](../docs/docs-nwtimetracking.md) before proceeding.|"
   ]
  },
  {
   "attachments": {},
   "cell_type": "markdown",
   "metadata": {},
   "source": [
    "#### Global Modules"
   ]
  },
  {
   "cell_type": "code",
   "execution_count": 1,
   "metadata": {},
   "outputs": [],
   "source": [
    "from pandas import DataFrame\n",
    "from typing import Optional"
   ]
  },
  {
   "attachments": {},
   "cell_type": "markdown",
   "metadata": {},
   "source": [
    "#### Local Modules"
   ]
  },
  {
   "cell_type": "code",
   "execution_count": 2,
   "metadata": {},
   "outputs": [],
   "source": [
    "from nwtimetracking import SettingBag, DefaultPathProvider, YearProvider, SoftwareProjectNameProvider, TimeTrackingProcessor\n",
    "from nwtimetracking import ComponentBag, TTMarkdownFactory\n",
    "from nwpackageversions import LanguageChecker, RequirementChecker, RequirementSummary"
   ]
  },
  {
   "cell_type": "markdown",
   "metadata": {},
   "source": [
    "#### Language/Requirement Checks"
   ]
  },
  {
   "cell_type": "code",
   "execution_count": 3,
   "metadata": {},
   "outputs": [
    {
     "name": "stdout",
     "output_type": "stream",
     "text": [
      "The installed Python version is matching the expected one (installed: '3.12.5', expected: '3.12.5').\n"
     ]
    }
   ],
   "source": [
    "enable_language_status_check : bool = True\n",
    "enable_requirement_status_check : bool = False\n",
    "\n",
    "if enable_language_status_check:\n",
    "    language_status : str = LanguageChecker().get_version_status(required = (3, 12, 5))\n",
    "    print(language_status)\n",
    "\n",
    "if enable_requirement_status_check:\n",
    "    requirement_checker : RequirementChecker = RequirementChecker(logging_function = LambdaCollection().do_nothing_function())\n",
    "    dockerfile_path : str = requirement_checker.get_default_devcointainer_dockerfile_path()\n",
    "    requirement_status : Optional[RequirementSummary] = requirement_checker.try_check(file_path = dockerfile_path)\n",
    "    print(requirement_status)"
   ]
  },
  {
   "attachments": {},
   "cell_type": "markdown",
   "metadata": {},
   "source": [
    "#### Functions : Temp"
   ]
  },
  {
   "cell_type": "code",
   "execution_count": null,
   "metadata": {},
   "outputs": [],
   "source": []
  },
  {
   "attachments": {},
   "cell_type": "markdown",
   "metadata": {},
   "source": [
    "#### Settings"
   ]
  },
  {
   "cell_type": "code",
   "execution_count": 4,
   "metadata": {},
   "outputs": [],
   "source": [
    "setting_bag : SettingBag = SettingBag(\n",
    "    excel_nrows = 1301,\n",
    "    options_tt = [\"display\"],\n",
    "    options_tts_by_month = [\"display\", \"save\"],\n",
    "    options_tts_by_year = [\"display\"],\n",
    "    options_tts_by_year_month = [\"display\"],\n",
    "    options_tts_by_year_month_spnv = [\"display\"],\n",
    "    options_tts_by_spn = [\"display\"],\n",
    "    options_tts_by_spn_spv = [\"display\"],\n",
    "    options_tts_by_hashtag = [\"display\"],\n",
    "    options_tts_by_hashtag_year = [\"display\"],\n",
    "    options_tts_by_efs = [\"display\"],\n",
    "    options_tts_by_tr = [\"display\"],\n",
    "    options_definitions = [\"display\"]\n",
    ")\n"
   ]
  },
  {
   "attachments": {},
   "cell_type": "markdown",
   "metadata": {},
   "source": [
    "#### Main : Analysis"
   ]
  },
  {
   "cell_type": "code",
   "execution_count": 5,
   "metadata": {},
   "outputs": [
    {
     "data": {
      "text/html": [
       "<style type=\"text/css\">\n",
       "</style>\n",
       "<table id=\"T_41590\">\n",
       "  <thead>\n",
       "    <tr>\n",
       "      <th id=\"T_41590_level0_col0\" class=\"col_heading level0 col0\" >Date</th>\n",
       "      <th id=\"T_41590_level0_col1\" class=\"col_heading level0 col1\" >StartTime</th>\n",
       "      <th id=\"T_41590_level0_col2\" class=\"col_heading level0 col2\" >EndTime</th>\n",
       "      <th id=\"T_41590_level0_col3\" class=\"col_heading level0 col3\" >Effort</th>\n",
       "      <th id=\"T_41590_level0_col4\" class=\"col_heading level0 col4\" >Hashtag</th>\n",
       "      <th id=\"T_41590_level0_col5\" class=\"col_heading level0 col5\" >Descriptor</th>\n",
       "      <th id=\"T_41590_level0_col6\" class=\"col_heading level0 col6\" >IsSoftwareProject</th>\n",
       "      <th id=\"T_41590_level0_col7\" class=\"col_heading level0 col7\" >IsReleaseDay</th>\n",
       "      <th id=\"T_41590_level0_col8\" class=\"col_heading level0 col8\" >Year</th>\n",
       "      <th id=\"T_41590_level0_col9\" class=\"col_heading level0 col9\" >Month</th>\n",
       "    </tr>\n",
       "  </thead>\n",
       "  <tbody>\n",
       "    <tr>\n",
       "      <td id=\"T_41590_row0_col0\" class=\"data row0 col0\" >2024-12-01</td>\n",
       "      <td id=\"T_41590_row0_col1\" class=\"data row0 col1\" >15:00</td>\n",
       "      <td id=\"T_41590_row0_col2\" class=\"data row0 col2\" >15:45</td>\n",
       "      <td id=\"T_41590_row0_col3\" class=\"data row0 col3\" >0h 45m</td>\n",
       "      <td id=\"T_41590_row0_col4\" class=\"data row0 col4\" >#python</td>\n",
       "      <td id=\"T_41590_row0_col5\" class=\"data row0 col5\" >nwpackageversions v1.8.0</td>\n",
       "      <td id=\"T_41590_row0_col6\" class=\"data row0 col6\" >True</td>\n",
       "      <td id=\"T_41590_row0_col7\" class=\"data row0 col7\" >True</td>\n",
       "      <td id=\"T_41590_row0_col8\" class=\"data row0 col8\" >2024</td>\n",
       "      <td id=\"T_41590_row0_col9\" class=\"data row0 col9\" >12</td>\n",
       "    </tr>\n",
       "    <tr>\n",
       "      <td id=\"T_41590_row1_col0\" class=\"data row1 col0\" >2024-12-01</td>\n",
       "      <td id=\"T_41590_row1_col1\" class=\"data row1 col1\" >15:45</td>\n",
       "      <td id=\"T_41590_row1_col2\" class=\"data row1 col2\" >16:15</td>\n",
       "      <td id=\"T_41590_row1_col3\" class=\"data row1 col3\" >0h 30m</td>\n",
       "      <td id=\"T_41590_row1_col4\" class=\"data row1 col4\" >#python</td>\n",
       "      <td id=\"T_41590_row1_col5\" class=\"data row1 col5\" >nwreadinglist v4.1.0</td>\n",
       "      <td id=\"T_41590_row1_col6\" class=\"data row1 col6\" >True</td>\n",
       "      <td id=\"T_41590_row1_col7\" class=\"data row1 col7\" >True</td>\n",
       "      <td id=\"T_41590_row1_col8\" class=\"data row1 col8\" >2024</td>\n",
       "      <td id=\"T_41590_row1_col9\" class=\"data row1 col9\" >12</td>\n",
       "    </tr>\n",
       "    <tr>\n",
       "      <td id=\"T_41590_row2_col0\" class=\"data row2 col0\" >2024-12-01</td>\n",
       "      <td id=\"T_41590_row2_col1\" class=\"data row2 col1\" >19:15</td>\n",
       "      <td id=\"T_41590_row2_col2\" class=\"data row2 col2\" >19:30</td>\n",
       "      <td id=\"T_41590_row2_col3\" class=\"data row2 col3\" >0h 15m</td>\n",
       "      <td id=\"T_41590_row2_col4\" class=\"data row2 col4\" >#python</td>\n",
       "      <td id=\"T_41590_row2_col5\" class=\"data row2 col5\" >nwreadinglist v4.1.0</td>\n",
       "      <td id=\"T_41590_row2_col6\" class=\"data row2 col6\" >True</td>\n",
       "      <td id=\"T_41590_row2_col7\" class=\"data row2 col7\" >True</td>\n",
       "      <td id=\"T_41590_row2_col8\" class=\"data row2 col8\" >2024</td>\n",
       "      <td id=\"T_41590_row2_col9\" class=\"data row2 col9\" >12</td>\n",
       "    </tr>\n",
       "    <tr>\n",
       "      <td id=\"T_41590_row3_col0\" class=\"data row3 col0\" >2024-12-01</td>\n",
       "      <td id=\"T_41590_row3_col1\" class=\"data row3 col1\" >19:30</td>\n",
       "      <td id=\"T_41590_row3_col2\" class=\"data row3 col2\" >20:15</td>\n",
       "      <td id=\"T_41590_row3_col3\" class=\"data row3 col3\" >0h 45m</td>\n",
       "      <td id=\"T_41590_row3_col4\" class=\"data row3 col4\" >#python</td>\n",
       "      <td id=\"T_41590_row3_col5\" class=\"data row3 col5\" >nwtimetracking v3.9.0</td>\n",
       "      <td id=\"T_41590_row3_col6\" class=\"data row3 col6\" >True</td>\n",
       "      <td id=\"T_41590_row3_col7\" class=\"data row3 col7\" >True</td>\n",
       "      <td id=\"T_41590_row3_col8\" class=\"data row3 col8\" >2024</td>\n",
       "      <td id=\"T_41590_row3_col9\" class=\"data row3 col9\" >12</td>\n",
       "    </tr>\n",
       "    <tr>\n",
       "      <td id=\"T_41590_row4_col0\" class=\"data row4 col0\" >2024-12-01</td>\n",
       "      <td id=\"T_41590_row4_col1\" class=\"data row4 col1\" >21:00</td>\n",
       "      <td id=\"T_41590_row4_col2\" class=\"data row4 col2\" >23:00</td>\n",
       "      <td id=\"T_41590_row4_col3\" class=\"data row4 col3\" >2h 00m</td>\n",
       "      <td id=\"T_41590_row4_col4\" class=\"data row4 col4\" >#python</td>\n",
       "      <td id=\"T_41590_row4_col5\" class=\"data row4 col5\" >nwtraderaanalytics v4.4.0</td>\n",
       "      <td id=\"T_41590_row4_col6\" class=\"data row4 col6\" >True</td>\n",
       "      <td id=\"T_41590_row4_col7\" class=\"data row4 col7\" >True</td>\n",
       "      <td id=\"T_41590_row4_col8\" class=\"data row4 col8\" >2024</td>\n",
       "      <td id=\"T_41590_row4_col9\" class=\"data row4 col9\" >12</td>\n",
       "    </tr>\n",
       "  </tbody>\n",
       "</table>\n"
      ],
      "text/plain": [
       "<pandas.io.formats.style.Styler at 0x7ff222bd5550>"
      ]
     },
     "metadata": {},
     "output_type": "display_data"
    }
   ],
   "source": [
    "tt_processor : TimeTrackingProcessor = TimeTrackingProcessor(component_bag = ComponentBag(), setting_bag = setting_bag)\n",
    "tt_processor.initialize()\n",
    "tt_processor.process_tt()"
   ]
  },
  {
   "cell_type": "code",
   "execution_count": 6,
   "metadata": {},
   "outputs": [
    {
     "data": {
      "text/html": [
       "<style type=\"text/css\">\n",
       "</style>\n",
       "<table id=\"T_eadf4\">\n",
       "  <thead>\n",
       "    <tr>\n",
       "      <th id=\"T_eadf4_level0_col0\" class=\"col_heading level0 col0\" >Month</th>\n",
       "      <th id=\"T_eadf4_level0_col1\" class=\"col_heading level0 col1\" >2015</th>\n",
       "      <th id=\"T_eadf4_level0_col2\" class=\"col_heading level0 col2\" >↕</th>\n",
       "      <th id=\"T_eadf4_level0_col3\" class=\"col_heading level0 col3\" >2016</th>\n",
       "      <th id=\"T_eadf4_level0_col4\" class=\"col_heading level0 col4\" >↕</th>\n",
       "      <th id=\"T_eadf4_level0_col5\" class=\"col_heading level0 col5\" >2017</th>\n",
       "      <th id=\"T_eadf4_level0_col6\" class=\"col_heading level0 col6\" >↕</th>\n",
       "      <th id=\"T_eadf4_level0_col7\" class=\"col_heading level0 col7\" >2018</th>\n",
       "      <th id=\"T_eadf4_level0_col8\" class=\"col_heading level0 col8\" >↕</th>\n",
       "      <th id=\"T_eadf4_level0_col9\" class=\"col_heading level0 col9\" >2019</th>\n",
       "      <th id=\"T_eadf4_level0_col10\" class=\"col_heading level0 col10\" >↕</th>\n",
       "      <th id=\"T_eadf4_level0_col11\" class=\"col_heading level0 col11\" >2020</th>\n",
       "      <th id=\"T_eadf4_level0_col12\" class=\"col_heading level0 col12\" >↕</th>\n",
       "      <th id=\"T_eadf4_level0_col13\" class=\"col_heading level0 col13\" >2021</th>\n",
       "      <th id=\"T_eadf4_level0_col14\" class=\"col_heading level0 col14\" >↕</th>\n",
       "      <th id=\"T_eadf4_level0_col15\" class=\"col_heading level0 col15\" >2022</th>\n",
       "      <th id=\"T_eadf4_level0_col16\" class=\"col_heading level0 col16\" >↕</th>\n",
       "      <th id=\"T_eadf4_level0_col17\" class=\"col_heading level0 col17\" >2023</th>\n",
       "      <th id=\"T_eadf4_level0_col18\" class=\"col_heading level0 col18\" >↕</th>\n",
       "      <th id=\"T_eadf4_level0_col19\" class=\"col_heading level0 col19\" >2024</th>\n",
       "    </tr>\n",
       "  </thead>\n",
       "  <tbody>\n",
       "    <tr>\n",
       "      <td id=\"T_eadf4_row0_col0\" class=\"data row0 col0\" >1</td>\n",
       "      <td id=\"T_eadf4_row0_col1\" class=\"data row0 col1\" >00h 00m</td>\n",
       "      <td id=\"T_eadf4_row0_col2\" class=\"data row0 col2\" >↑</td>\n",
       "      <td id=\"T_eadf4_row0_col3\" class=\"data row0 col3\" >18h 00m</td>\n",
       "      <td id=\"T_eadf4_row0_col4\" class=\"data row0 col4\" >↑</td>\n",
       "      <td id=\"T_eadf4_row0_col5\" class=\"data row0 col5\" >88h 30m</td>\n",
       "      <td id=\"T_eadf4_row0_col6\" class=\"data row0 col6\" >↓</td>\n",
       "      <td id=\"T_eadf4_row0_col7\" class=\"data row0 col7\" >80h 15m</td>\n",
       "      <td id=\"T_eadf4_row0_col8\" class=\"data row0 col8\" >↓</td>\n",
       "      <td id=\"T_eadf4_row0_col9\" class=\"data row0 col9\" >60h 00m</td>\n",
       "      <td id=\"T_eadf4_row0_col10\" class=\"data row0 col10\" >↓</td>\n",
       "      <td id=\"T_eadf4_row0_col11\" class=\"data row0 col11\" >29h 15m</td>\n",
       "      <td id=\"T_eadf4_row0_col12\" class=\"data row0 col12\" >↑</td>\n",
       "      <td id=\"T_eadf4_row0_col13\" class=\"data row0 col13\" >53h 00m</td>\n",
       "      <td id=\"T_eadf4_row0_col14\" class=\"data row0 col14\" >↓</td>\n",
       "      <td id=\"T_eadf4_row0_col15\" class=\"data row0 col15\" >00h 00m</td>\n",
       "      <td id=\"T_eadf4_row0_col16\" class=\"data row0 col16\" >↑</td>\n",
       "      <td id=\"T_eadf4_row0_col17\" class=\"data row0 col17\" >06h 00m</td>\n",
       "      <td id=\"T_eadf4_row0_col18\" class=\"data row0 col18\" >↑</td>\n",
       "      <td id=\"T_eadf4_row0_col19\" class=\"data row0 col19\" >45h 45m</td>\n",
       "    </tr>\n",
       "    <tr>\n",
       "      <td id=\"T_eadf4_row1_col0\" class=\"data row1 col0\" >2</td>\n",
       "      <td id=\"T_eadf4_row1_col1\" class=\"data row1 col1\" >00h 00m</td>\n",
       "      <td id=\"T_eadf4_row1_col2\" class=\"data row1 col2\" >↑</td>\n",
       "      <td id=\"T_eadf4_row1_col3\" class=\"data row1 col3\" >45h 30m</td>\n",
       "      <td id=\"T_eadf4_row1_col4\" class=\"data row1 col4\" >↑</td>\n",
       "      <td id=\"T_eadf4_row1_col5\" class=\"data row1 col5\" >65h 30m</td>\n",
       "      <td id=\"T_eadf4_row1_col6\" class=\"data row1 col6\" >↑</td>\n",
       "      <td id=\"T_eadf4_row1_col7\" class=\"data row1 col7\" >90h 45m</td>\n",
       "      <td id=\"T_eadf4_row1_col8\" class=\"data row1 col8\" >↓</td>\n",
       "      <td id=\"T_eadf4_row1_col9\" class=\"data row1 col9\" >73h 00m</td>\n",
       "      <td id=\"T_eadf4_row1_col10\" class=\"data row1 col10\" >↓</td>\n",
       "      <td id=\"T_eadf4_row1_col11\" class=\"data row1 col11\" >38h 00m</td>\n",
       "      <td id=\"T_eadf4_row1_col12\" class=\"data row1 col12\" >↓</td>\n",
       "      <td id=\"T_eadf4_row1_col13\" class=\"data row1 col13\" >31h 30m</td>\n",
       "      <td id=\"T_eadf4_row1_col14\" class=\"data row1 col14\" >↓</td>\n",
       "      <td id=\"T_eadf4_row1_col15\" class=\"data row1 col15\" >03h 00m</td>\n",
       "      <td id=\"T_eadf4_row1_col16\" class=\"data row1 col16\" >↑</td>\n",
       "      <td id=\"T_eadf4_row1_col17\" class=\"data row1 col17\" >24h 00m</td>\n",
       "      <td id=\"T_eadf4_row1_col18\" class=\"data row1 col18\" >↑</td>\n",
       "      <td id=\"T_eadf4_row1_col19\" class=\"data row1 col19\" >77h 45m</td>\n",
       "    </tr>\n",
       "    <tr>\n",
       "      <td id=\"T_eadf4_row2_col0\" class=\"data row2 col0\" >3</td>\n",
       "      <td id=\"T_eadf4_row2_col1\" class=\"data row2 col1\" >00h 00m</td>\n",
       "      <td id=\"T_eadf4_row2_col2\" class=\"data row2 col2\" >↑</td>\n",
       "      <td id=\"T_eadf4_row2_col3\" class=\"data row2 col3\" >20h 45m</td>\n",
       "      <td id=\"T_eadf4_row2_col4\" class=\"data row2 col4\" >↑</td>\n",
       "      <td id=\"T_eadf4_row2_col5\" class=\"data row2 col5\" >71h 45m</td>\n",
       "      <td id=\"T_eadf4_row2_col6\" class=\"data row2 col6\" >↑</td>\n",
       "      <td id=\"T_eadf4_row2_col7\" class=\"data row2 col7\" >89h 00m</td>\n",
       "      <td id=\"T_eadf4_row2_col8\" class=\"data row2 col8\" >↓</td>\n",
       "      <td id=\"T_eadf4_row2_col9\" class=\"data row2 col9\" >75h 30m</td>\n",
       "      <td id=\"T_eadf4_row2_col10\" class=\"data row2 col10\" >↓</td>\n",
       "      <td id=\"T_eadf4_row2_col11\" class=\"data row2 col11\" >35h 00m</td>\n",
       "      <td id=\"T_eadf4_row2_col12\" class=\"data row2 col12\" >↑</td>\n",
       "      <td id=\"T_eadf4_row2_col13\" class=\"data row2 col13\" >40h 30m</td>\n",
       "      <td id=\"T_eadf4_row2_col14\" class=\"data row2 col14\" >↓</td>\n",
       "      <td id=\"T_eadf4_row2_col15\" class=\"data row2 col15\" >06h 15m</td>\n",
       "      <td id=\"T_eadf4_row2_col16\" class=\"data row2 col16\" >↑</td>\n",
       "      <td id=\"T_eadf4_row2_col17\" class=\"data row2 col17\" >50h 15m</td>\n",
       "      <td id=\"T_eadf4_row2_col18\" class=\"data row2 col18\" >↑</td>\n",
       "      <td id=\"T_eadf4_row2_col19\" class=\"data row2 col19\" >77h 45m</td>\n",
       "    </tr>\n",
       "    <tr>\n",
       "      <td id=\"T_eadf4_row3_col0\" class=\"data row3 col0\" >4</td>\n",
       "      <td id=\"T_eadf4_row3_col1\" class=\"data row3 col1\" >00h 00m</td>\n",
       "      <td id=\"T_eadf4_row3_col2\" class=\"data row3 col2\" >↑</td>\n",
       "      <td id=\"T_eadf4_row3_col3\" class=\"data row3 col3\" >37h 30m</td>\n",
       "      <td id=\"T_eadf4_row3_col4\" class=\"data row3 col4\" >↑</td>\n",
       "      <td id=\"T_eadf4_row3_col5\" class=\"data row3 col5\" >68h 00m</td>\n",
       "      <td id=\"T_eadf4_row3_col6\" class=\"data row3 col6\" >↑</td>\n",
       "      <td id=\"T_eadf4_row3_col7\" class=\"data row3 col7\" >88h 30m</td>\n",
       "      <td id=\"T_eadf4_row3_col8\" class=\"data row3 col8\" >↓</td>\n",
       "      <td id=\"T_eadf4_row3_col9\" class=\"data row3 col9\" >59h 45m</td>\n",
       "      <td id=\"T_eadf4_row3_col10\" class=\"data row3 col10\" >↓</td>\n",
       "      <td id=\"T_eadf4_row3_col11\" class=\"data row3 col11\" >40h 45m</td>\n",
       "      <td id=\"T_eadf4_row3_col12\" class=\"data row3 col12\" >↓</td>\n",
       "      <td id=\"T_eadf4_row3_col13\" class=\"data row3 col13\" >19h 00m</td>\n",
       "      <td id=\"T_eadf4_row3_col14\" class=\"data row3 col14\" >↑</td>\n",
       "      <td id=\"T_eadf4_row3_col15\" class=\"data row3 col15\" >27h 30m</td>\n",
       "      <td id=\"T_eadf4_row3_col16\" class=\"data row3 col16\" >↓</td>\n",
       "      <td id=\"T_eadf4_row3_col17\" class=\"data row3 col17\" >19h 00m</td>\n",
       "      <td id=\"T_eadf4_row3_col18\" class=\"data row3 col18\" >↑</td>\n",
       "      <td id=\"T_eadf4_row3_col19\" class=\"data row3 col19\" >29h 30m</td>\n",
       "    </tr>\n",
       "    <tr>\n",
       "      <td id=\"T_eadf4_row4_col0\" class=\"data row4 col0\" >5</td>\n",
       "      <td id=\"T_eadf4_row4_col1\" class=\"data row4 col1\" >00h 00m</td>\n",
       "      <td id=\"T_eadf4_row4_col2\" class=\"data row4 col2\" >↑</td>\n",
       "      <td id=\"T_eadf4_row4_col3\" class=\"data row4 col3\" >53h 00m</td>\n",
       "      <td id=\"T_eadf4_row4_col4\" class=\"data row4 col4\" >↑</td>\n",
       "      <td id=\"T_eadf4_row4_col5\" class=\"data row4 col5\" >83h 00m</td>\n",
       "      <td id=\"T_eadf4_row4_col6\" class=\"data row4 col6\" >↑</td>\n",
       "      <td id=\"T_eadf4_row4_col7\" class=\"data row4 col7\" >91h 15m</td>\n",
       "      <td id=\"T_eadf4_row4_col8\" class=\"data row4 col8\" >↓</td>\n",
       "      <td id=\"T_eadf4_row4_col9\" class=\"data row4 col9\" >54h 45m</td>\n",
       "      <td id=\"T_eadf4_row4_col10\" class=\"data row4 col10\" >↓</td>\n",
       "      <td id=\"T_eadf4_row4_col11\" class=\"data row4 col11\" >14h 30m</td>\n",
       "      <td id=\"T_eadf4_row4_col12\" class=\"data row4 col12\" >↑</td>\n",
       "      <td id=\"T_eadf4_row4_col13\" class=\"data row4 col13\" >112h 45m</td>\n",
       "      <td id=\"T_eadf4_row4_col14\" class=\"data row4 col14\" >↓</td>\n",
       "      <td id=\"T_eadf4_row4_col15\" class=\"data row4 col15\" >49h 45m</td>\n",
       "      <td id=\"T_eadf4_row4_col16\" class=\"data row4 col16\" >↓</td>\n",
       "      <td id=\"T_eadf4_row4_col17\" class=\"data row4 col17\" >31h 00m</td>\n",
       "      <td id=\"T_eadf4_row4_col18\" class=\"data row4 col18\" >↑</td>\n",
       "      <td id=\"T_eadf4_row4_col19\" class=\"data row4 col19\" >43h 00m</td>\n",
       "    </tr>\n",
       "    <tr>\n",
       "      <td id=\"T_eadf4_row5_col0\" class=\"data row5 col0\" >6</td>\n",
       "      <td id=\"T_eadf4_row5_col1\" class=\"data row5 col1\" >00h 00m</td>\n",
       "      <td id=\"T_eadf4_row5_col2\" class=\"data row5 col2\" >↑</td>\n",
       "      <td id=\"T_eadf4_row5_col3\" class=\"data row5 col3\" >57h 45m</td>\n",
       "      <td id=\"T_eadf4_row5_col4\" class=\"data row5 col4\" >↓</td>\n",
       "      <td id=\"T_eadf4_row5_col5\" class=\"data row5 col5\" >37h 45m</td>\n",
       "      <td id=\"T_eadf4_row5_col6\" class=\"data row5 col6\" >↑</td>\n",
       "      <td id=\"T_eadf4_row5_col7\" class=\"data row5 col7\" >62h 00m</td>\n",
       "      <td id=\"T_eadf4_row5_col8\" class=\"data row5 col8\" >↓</td>\n",
       "      <td id=\"T_eadf4_row5_col9\" class=\"data row5 col9\" >29h 15m</td>\n",
       "      <td id=\"T_eadf4_row5_col10\" class=\"data row5 col10\" >↓</td>\n",
       "      <td id=\"T_eadf4_row5_col11\" class=\"data row5 col11\" >12h 00m</td>\n",
       "      <td id=\"T_eadf4_row5_col12\" class=\"data row5 col12\" >↑</td>\n",
       "      <td id=\"T_eadf4_row5_col13\" class=\"data row5 col13\" >54h 00m</td>\n",
       "      <td id=\"T_eadf4_row5_col14\" class=\"data row5 col14\" >↑</td>\n",
       "      <td id=\"T_eadf4_row5_col15\" class=\"data row5 col15\" >73h 30m</td>\n",
       "      <td id=\"T_eadf4_row5_col16\" class=\"data row5 col16\" >↓</td>\n",
       "      <td id=\"T_eadf4_row5_col17\" class=\"data row5 col17\" >24h 45m</td>\n",
       "      <td id=\"T_eadf4_row5_col18\" class=\"data row5 col18\" >↑</td>\n",
       "      <td id=\"T_eadf4_row5_col19\" class=\"data row5 col19\" >48h 00m</td>\n",
       "    </tr>\n",
       "    <tr>\n",
       "      <td id=\"T_eadf4_row6_col0\" class=\"data row6 col0\" >7</td>\n",
       "      <td id=\"T_eadf4_row6_col1\" class=\"data row6 col1\" >00h 00m</td>\n",
       "      <td id=\"T_eadf4_row6_col2\" class=\"data row6 col2\" >↑</td>\n",
       "      <td id=\"T_eadf4_row6_col3\" class=\"data row6 col3\" >46h 45m</td>\n",
       "      <td id=\"T_eadf4_row6_col4\" class=\"data row6 col4\" >↑</td>\n",
       "      <td id=\"T_eadf4_row6_col5\" class=\"data row6 col5\" >65h 30m</td>\n",
       "      <td id=\"T_eadf4_row6_col6\" class=\"data row6 col6\" >↑</td>\n",
       "      <td id=\"T_eadf4_row6_col7\" class=\"data row6 col7\" >69h 30m</td>\n",
       "      <td id=\"T_eadf4_row6_col8\" class=\"data row6 col8\" >↓</td>\n",
       "      <td id=\"T_eadf4_row6_col9\" class=\"data row6 col9\" >24h 15m</td>\n",
       "      <td id=\"T_eadf4_row6_col10\" class=\"data row6 col10\" >↑</td>\n",
       "      <td id=\"T_eadf4_row6_col11\" class=\"data row6 col11\" >34h 00m</td>\n",
       "      <td id=\"T_eadf4_row6_col12\" class=\"data row6 col12\" >↓</td>\n",
       "      <td id=\"T_eadf4_row6_col13\" class=\"data row6 col13\" >23h 30m</td>\n",
       "      <td id=\"T_eadf4_row6_col14\" class=\"data row6 col14\" >↑</td>\n",
       "      <td id=\"T_eadf4_row6_col15\" class=\"data row6 col15\" >51h 00m</td>\n",
       "      <td id=\"T_eadf4_row6_col16\" class=\"data row6 col16\" >↓</td>\n",
       "      <td id=\"T_eadf4_row6_col17\" class=\"data row6 col17\" >16h 30m</td>\n",
       "      <td id=\"T_eadf4_row6_col18\" class=\"data row6 col18\" >↑</td>\n",
       "      <td id=\"T_eadf4_row6_col19\" class=\"data row6 col19\" >67h 00m</td>\n",
       "    </tr>\n",
       "    <tr>\n",
       "      <td id=\"T_eadf4_row7_col0\" class=\"data row7 col0\" >8</td>\n",
       "      <td id=\"T_eadf4_row7_col1\" class=\"data row7 col1\" >00h 00m</td>\n",
       "      <td id=\"T_eadf4_row7_col2\" class=\"data row7 col2\" >↑</td>\n",
       "      <td id=\"T_eadf4_row7_col3\" class=\"data row7 col3\" >25h 45m</td>\n",
       "      <td id=\"T_eadf4_row7_col4\" class=\"data row7 col4\" >↑</td>\n",
       "      <td id=\"T_eadf4_row7_col5\" class=\"data row7 col5\" >45h 45m</td>\n",
       "      <td id=\"T_eadf4_row7_col6\" class=\"data row7 col6\" >↑</td>\n",
       "      <td id=\"T_eadf4_row7_col7\" class=\"data row7 col7\" >72h 00m</td>\n",
       "      <td id=\"T_eadf4_row7_col8\" class=\"data row7 col8\" >↓</td>\n",
       "      <td id=\"T_eadf4_row7_col9\" class=\"data row7 col9\" >06h 00m</td>\n",
       "      <td id=\"T_eadf4_row7_col10\" class=\"data row7 col10\" >↑</td>\n",
       "      <td id=\"T_eadf4_row7_col11\" class=\"data row7 col11\" >32h 00m</td>\n",
       "      <td id=\"T_eadf4_row7_col12\" class=\"data row7 col12\" >↑</td>\n",
       "      <td id=\"T_eadf4_row7_col13\" class=\"data row7 col13\" >110h 00m</td>\n",
       "      <td id=\"T_eadf4_row7_col14\" class=\"data row7 col14\" >↓</td>\n",
       "      <td id=\"T_eadf4_row7_col15\" class=\"data row7 col15\" >36h 30m</td>\n",
       "      <td id=\"T_eadf4_row7_col16\" class=\"data row7 col16\" >↑</td>\n",
       "      <td id=\"T_eadf4_row7_col17\" class=\"data row7 col17\" >41h 30m</td>\n",
       "      <td id=\"T_eadf4_row7_col18\" class=\"data row7 col18\" >↓</td>\n",
       "      <td id=\"T_eadf4_row7_col19\" class=\"data row7 col19\" >32h 45m</td>\n",
       "    </tr>\n",
       "    <tr>\n",
       "      <td id=\"T_eadf4_row8_col0\" class=\"data row8 col0\" >9</td>\n",
       "      <td id=\"T_eadf4_row8_col1\" class=\"data row8 col1\" >00h 00m</td>\n",
       "      <td id=\"T_eadf4_row8_col2\" class=\"data row8 col2\" >↑</td>\n",
       "      <td id=\"T_eadf4_row8_col3\" class=\"data row8 col3\" >89h 30m</td>\n",
       "      <td id=\"T_eadf4_row8_col4\" class=\"data row8 col4\" >↓</td>\n",
       "      <td id=\"T_eadf4_row8_col5\" class=\"data row8 col5\" >43h 45m</td>\n",
       "      <td id=\"T_eadf4_row8_col6\" class=\"data row8 col6\" >↑</td>\n",
       "      <td id=\"T_eadf4_row8_col7\" class=\"data row8 col7\" >64h 00m</td>\n",
       "      <td id=\"T_eadf4_row8_col8\" class=\"data row8 col8\" >↓</td>\n",
       "      <td id=\"T_eadf4_row8_col9\" class=\"data row8 col9\" >39h 00m</td>\n",
       "      <td id=\"T_eadf4_row8_col10\" class=\"data row8 col10\" >↑</td>\n",
       "      <td id=\"T_eadf4_row8_col11\" class=\"data row8 col11\" >44h 00m</td>\n",
       "      <td id=\"T_eadf4_row8_col12\" class=\"data row8 col12\" >↓</td>\n",
       "      <td id=\"T_eadf4_row8_col13\" class=\"data row8 col13\" >43h 30m</td>\n",
       "      <td id=\"T_eadf4_row8_col14\" class=\"data row8 col14\" >↑</td>\n",
       "      <td id=\"T_eadf4_row8_col15\" class=\"data row8 col15\" >69h 00m</td>\n",
       "      <td id=\"T_eadf4_row8_col16\" class=\"data row8 col16\" >↓</td>\n",
       "      <td id=\"T_eadf4_row8_col17\" class=\"data row8 col17\" >50h 15m</td>\n",
       "      <td id=\"T_eadf4_row8_col18\" class=\"data row8 col18\" >↓</td>\n",
       "      <td id=\"T_eadf4_row8_col19\" class=\"data row8 col19\" >48h 00m</td>\n",
       "    </tr>\n",
       "    <tr>\n",
       "      <td id=\"T_eadf4_row9_col0\" class=\"data row9 col0\" >10</td>\n",
       "      <td id=\"T_eadf4_row9_col1\" class=\"data row9 col1\" >08h 00m</td>\n",
       "      <td id=\"T_eadf4_row9_col2\" class=\"data row9 col2\" >↑</td>\n",
       "      <td id=\"T_eadf4_row9_col3\" class=\"data row9 col3\" >82h 15m</td>\n",
       "      <td id=\"T_eadf4_row9_col4\" class=\"data row9 col4\" >↓</td>\n",
       "      <td id=\"T_eadf4_row9_col5\" class=\"data row9 col5\" >64h 30m</td>\n",
       "      <td id=\"T_eadf4_row9_col6\" class=\"data row9 col6\" >↓</td>\n",
       "      <td id=\"T_eadf4_row9_col7\" class=\"data row9 col7\" >46h 45m</td>\n",
       "      <td id=\"T_eadf4_row9_col8\" class=\"data row9 col8\" >↓</td>\n",
       "      <td id=\"T_eadf4_row9_col9\" class=\"data row9 col9\" >45h 30m</td>\n",
       "      <td id=\"T_eadf4_row9_col10\" class=\"data row9 col10\" >↑</td>\n",
       "      <td id=\"T_eadf4_row9_col11\" class=\"data row9 col11\" >48h 00m</td>\n",
       "      <td id=\"T_eadf4_row9_col12\" class=\"data row9 col12\" >↓</td>\n",
       "      <td id=\"T_eadf4_row9_col13\" class=\"data row9 col13\" >35h 30m</td>\n",
       "      <td id=\"T_eadf4_row9_col14\" class=\"data row9 col14\" >↑</td>\n",
       "      <td id=\"T_eadf4_row9_col15\" class=\"data row9 col15\" >38h 30m</td>\n",
       "      <td id=\"T_eadf4_row9_col16\" class=\"data row9 col16\" >↓</td>\n",
       "      <td id=\"T_eadf4_row9_col17\" class=\"data row9 col17\" >20h 00m</td>\n",
       "      <td id=\"T_eadf4_row9_col18\" class=\"data row9 col18\" >↑</td>\n",
       "      <td id=\"T_eadf4_row9_col19\" class=\"data row9 col19\" >101h 30m</td>\n",
       "    </tr>\n",
       "    <tr>\n",
       "      <td id=\"T_eadf4_row10_col0\" class=\"data row10 col0\" >11</td>\n",
       "      <td id=\"T_eadf4_row10_col1\" class=\"data row10 col1\" >10h 00m</td>\n",
       "      <td id=\"T_eadf4_row10_col2\" class=\"data row10 col2\" >↑</td>\n",
       "      <td id=\"T_eadf4_row10_col3\" class=\"data row10 col3\" >74h 30m</td>\n",
       "      <td id=\"T_eadf4_row10_col4\" class=\"data row10 col4\" >↓</td>\n",
       "      <td id=\"T_eadf4_row10_col5\" class=\"data row10 col5\" >50h 00m</td>\n",
       "      <td id=\"T_eadf4_row10_col6\" class=\"data row10 col6\" >↓</td>\n",
       "      <td id=\"T_eadf4_row10_col7\" class=\"data row10 col7\" >30h 00m</td>\n",
       "      <td id=\"T_eadf4_row10_col8\" class=\"data row10 col8\" >↑</td>\n",
       "      <td id=\"T_eadf4_row10_col9\" class=\"data row10 col9\" >38h 45m</td>\n",
       "      <td id=\"T_eadf4_row10_col10\" class=\"data row10 col10\" >↓</td>\n",
       "      <td id=\"T_eadf4_row10_col11\" class=\"data row10 col11\" >35h 30m</td>\n",
       "      <td id=\"T_eadf4_row10_col12\" class=\"data row10 col12\" >↓</td>\n",
       "      <td id=\"T_eadf4_row10_col13\" class=\"data row10 col13\" >13h 15m</td>\n",
       "      <td id=\"T_eadf4_row10_col14\" class=\"data row10 col14\" >↑</td>\n",
       "      <td id=\"T_eadf4_row10_col15\" class=\"data row10 col15\" >58h 15m</td>\n",
       "      <td id=\"T_eadf4_row10_col16\" class=\"data row10 col16\" >↓</td>\n",
       "      <td id=\"T_eadf4_row10_col17\" class=\"data row10 col17\" >14h 30m</td>\n",
       "      <td id=\"T_eadf4_row10_col18\" class=\"data row10 col18\" >↑</td>\n",
       "      <td id=\"T_eadf4_row10_col19\" class=\"data row10 col19\" >88h 00m</td>\n",
       "    </tr>\n",
       "    <tr>\n",
       "      <td id=\"T_eadf4_row11_col0\" class=\"data row11 col0\" >12</td>\n",
       "      <td id=\"T_eadf4_row11_col1\" class=\"data row11 col1\" >00h 00m</td>\n",
       "      <td id=\"T_eadf4_row11_col2\" class=\"data row11 col2\" >↑</td>\n",
       "      <td id=\"T_eadf4_row11_col3\" class=\"data row11 col3\" >64h 00m</td>\n",
       "      <td id=\"T_eadf4_row11_col4\" class=\"data row11 col4\" >↑</td>\n",
       "      <td id=\"T_eadf4_row11_col5\" class=\"data row11 col5\" >78h 45m</td>\n",
       "      <td id=\"T_eadf4_row11_col6\" class=\"data row11 col6\" >↓</td>\n",
       "      <td id=\"T_eadf4_row11_col7\" class=\"data row11 col7\" >45h 45m</td>\n",
       "      <td id=\"T_eadf4_row11_col8\" class=\"data row11 col8\" >↓</td>\n",
       "      <td id=\"T_eadf4_row11_col9\" class=\"data row11 col9\" >09h 30m</td>\n",
       "      <td id=\"T_eadf4_row11_col10\" class=\"data row11 col10\" >↑</td>\n",
       "      <td id=\"T_eadf4_row11_col11\" class=\"data row11 col11\" >107h 30m</td>\n",
       "      <td id=\"T_eadf4_row11_col12\" class=\"data row11 col12\" >↓</td>\n",
       "      <td id=\"T_eadf4_row11_col13\" class=\"data row11 col13\" >01h 00m</td>\n",
       "      <td id=\"T_eadf4_row11_col14\" class=\"data row11 col14\" >↑</td>\n",
       "      <td id=\"T_eadf4_row11_col15\" class=\"data row11 col15\" >54h 15m</td>\n",
       "      <td id=\"T_eadf4_row11_col16\" class=\"data row11 col16\" >↓</td>\n",
       "      <td id=\"T_eadf4_row11_col17\" class=\"data row11 col17\" >22h 30m</td>\n",
       "      <td id=\"T_eadf4_row11_col18\" class=\"data row11 col18\" >↓</td>\n",
       "      <td id=\"T_eadf4_row11_col19\" class=\"data row11 col19\" >07h 45m</td>\n",
       "    </tr>\n",
       "  </tbody>\n",
       "</table>\n"
      ],
      "text/plain": [
       "<pandas.io.formats.style.Styler at 0x7ff258aa55b0>"
      ]
     },
     "metadata": {},
     "output_type": "display_data"
    },
    {
     "name": "stdout",
     "output_type": "stream",
     "text": [
      "This content (id: 'tts_by_month') has been successfully saved as '/home/nwtimetracking/TIMETRACKINGBYMONTH.md'.\n"
     ]
    }
   ],
   "source": [
    "tt_processor.process_tts_by_month()\n"
   ]
  },
  {
   "cell_type": "code",
   "execution_count": null,
   "metadata": {},
   "outputs": [],
   "source": [
    "\n"
   ]
  },
  {
   "cell_type": "code",
   "execution_count": null,
   "metadata": {},
   "outputs": [],
   "source": [
    "\n"
   ]
  },
  {
   "cell_type": "code",
   "execution_count": null,
   "metadata": {},
   "outputs": [],
   "source": [
    "\n"
   ]
  },
  {
   "cell_type": "code",
   "execution_count": null,
   "metadata": {},
   "outputs": [],
   "source": [
    "\n"
   ]
  },
  {
   "cell_type": "code",
   "execution_count": null,
   "metadata": {},
   "outputs": [],
   "source": [
    "\n"
   ]
  },
  {
   "cell_type": "code",
   "execution_count": null,
   "metadata": {},
   "outputs": [],
   "source": [
    "\n"
   ]
  },
  {
   "cell_type": "code",
   "execution_count": null,
   "metadata": {},
   "outputs": [],
   "source": [
    "\n"
   ]
  },
  {
   "cell_type": "code",
   "execution_count": null,
   "metadata": {},
   "outputs": [],
   "source": [
    "\n"
   ]
  },
  {
   "cell_type": "code",
   "execution_count": null,
   "metadata": {},
   "outputs": [],
   "source": [
    "\n"
   ]
  },
  {
   "cell_type": "code",
   "execution_count": null,
   "metadata": {},
   "outputs": [],
   "source": [
    "\n"
   ]
  }
 ],
 "metadata": {
  "kernelspec": {
   "display_name": "Python 3",
   "language": "python",
   "name": "python3"
  },
  "language_info": {
   "codemirror_mode": {
    "name": "ipython",
    "version": 3
   },
   "file_extension": ".py",
   "mimetype": "text/x-python",
   "name": "python",
   "nbconvert_exporter": "python",
   "pygments_lexer": "ipython3",
   "version": "3.12.5"
  },
  "orig_nbformat": 4,
  "vscode": {
   "interpreter": {
    "hash": "0a8089cacc208889ee75fc820c9d7aefe4dbe23921694f1e3f9e11a586a8c0ec"
   }
  }
 },
 "nbformat": 4,
 "nbformat_minor": 2
}
